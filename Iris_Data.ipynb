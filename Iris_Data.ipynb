{
  "nbformat": 4,
  "nbformat_minor": 0,
  "metadata": {
    "colab": {
      "provenance": []
    },
    "kernelspec": {
      "name": "python3",
      "display_name": "Python 3"
    },
    "language_info": {
      "name": "python"
    }
  },
  "cells": [
    {
      "cell_type": "markdown",
      "source": [
        "**Table of Content**"
      ],
      "metadata": {
        "id": "0AvTXwxowMuv"
      }
    },
    {
      "cell_type": "markdown",
      "source": [
        "**Introduction:**\n",
        "\n",
        "The data set consists of 3 classes of 50 samples from each of three species of Iris (Iris Setosa, Iris virginica, and Iris versicolor). Four features were measured from each sample: the length and the width of the sepals and petals, in centimeters.\n",
        "\n",
        "Machine learning model is needed in order to classify the appropriate iris species based on sepal and petal size."
      ],
      "metadata": {
        "id": "LPvwRFLzPFuP"
      }
    },
    {
      "cell_type": "markdown",
      "source": [
        "**Objective**\n",
        "\n",
        "Project Aim:\n",
        "The aim of this project is to obtain a data-driven machine learning model solution that will allow us develop a model for the classification of flower. Our objective is to classify a new flower as belonging to one of the 3 classes given the 4 features\n",
        "\n",
        "1. Perform EDA and Explore the features using histograms\n",
        "2. Encode the target variable ie convert it to numeric type  \n",
        "3. Experiment using two different ratios of training, validation and test data ie 60-20-20 and 80-10-10.\n",
        "*   On the two different split ratios do the following\n",
        "*   Implement KFold Cross Validation\n",
        "*   Implement Grid Search to find optimal hyperparameters for any 3\n",
        "    algorithms (out of LR, SVM, MLP, RF, Boosting)\n",
        "*   Analyze the results on Validation set and test set and mention\n",
        "    which model performed the best and why?\n",
        "*   Compare the performance of models(using precision, recall,\n",
        "    accuracy, latency). What was the best proportion or split ratio of\n",
        "    data from the set of experiments you conducted?\n",
        "\n",
        "\n",
        "\n",
        "\n",
        "\n",
        "\n",
        "\n",
        "\n"
      ],
      "metadata": {
        "id": "pwgYw81GPopa"
      }
    },
    {
      "cell_type": "markdown",
      "source": [
        "**Read in Data**"
      ],
      "metadata": {
        "id": "oWTqys3ALbQ1"
      }
    },
    {
      "cell_type": "code",
      "source": [
        "import numpy as np # linear algebra\n",
        "import pandas as pd # data processing, CSV file I/O (e.g. pd.read_csv)\n",
        "import seaborn as sns\n",
        "import matplotlib.pyplot as plt\n",
        "\n",
        "iris = pd.read_excel('/content/iris .xlsx') #load the dataset`\n",
        "iris.head()"
      ],
      "metadata": {
        "colab": {
          "base_uri": "https://localhost:8080/",
          "height": 204
        },
        "id": "wI4WcK3JPBq8",
        "outputId": "744ff80a-d086-4fe8-91bd-3c7a2f0789db"
      },
      "execution_count": null,
      "outputs": [
        {
          "output_type": "execute_result",
          "data": {
            "text/plain": [
              "   sepal.length  sepal.width  petal.length  petal.width variety\n",
              "0           5.1          3.5           1.4          0.2  Setosa\n",
              "1           4.9          3.0           1.4          0.2  Setosa\n",
              "2           4.7          3.2           1.3          0.2  Setosa\n",
              "3           4.6          3.1           1.5          0.2  Setosa\n",
              "4           5.0          3.6           1.4          0.2  Setosa"
            ],
            "text/html": [
              "\n",
              "  <div id=\"df-4eb11246-c182-409a-984c-d49ab94f5cde\">\n",
              "    <div class=\"colab-df-container\">\n",
              "      <div>\n",
              "<style scoped>\n",
              "    .dataframe tbody tr th:only-of-type {\n",
              "        vertical-align: middle;\n",
              "    }\n",
              "\n",
              "    .dataframe tbody tr th {\n",
              "        vertical-align: top;\n",
              "    }\n",
              "\n",
              "    .dataframe thead th {\n",
              "        text-align: right;\n",
              "    }\n",
              "</style>\n",
              "<table border=\"1\" class=\"dataframe\">\n",
              "  <thead>\n",
              "    <tr style=\"text-align: right;\">\n",
              "      <th></th>\n",
              "      <th>sepal.length</th>\n",
              "      <th>sepal.width</th>\n",
              "      <th>petal.length</th>\n",
              "      <th>petal.width</th>\n",
              "      <th>variety</th>\n",
              "    </tr>\n",
              "  </thead>\n",
              "  <tbody>\n",
              "    <tr>\n",
              "      <th>0</th>\n",
              "      <td>5.1</td>\n",
              "      <td>3.5</td>\n",
              "      <td>1.4</td>\n",
              "      <td>0.2</td>\n",
              "      <td>Setosa</td>\n",
              "    </tr>\n",
              "    <tr>\n",
              "      <th>1</th>\n",
              "      <td>4.9</td>\n",
              "      <td>3.0</td>\n",
              "      <td>1.4</td>\n",
              "      <td>0.2</td>\n",
              "      <td>Setosa</td>\n",
              "    </tr>\n",
              "    <tr>\n",
              "      <th>2</th>\n",
              "      <td>4.7</td>\n",
              "      <td>3.2</td>\n",
              "      <td>1.3</td>\n",
              "      <td>0.2</td>\n",
              "      <td>Setosa</td>\n",
              "    </tr>\n",
              "    <tr>\n",
              "      <th>3</th>\n",
              "      <td>4.6</td>\n",
              "      <td>3.1</td>\n",
              "      <td>1.5</td>\n",
              "      <td>0.2</td>\n",
              "      <td>Setosa</td>\n",
              "    </tr>\n",
              "    <tr>\n",
              "      <th>4</th>\n",
              "      <td>5.0</td>\n",
              "      <td>3.6</td>\n",
              "      <td>1.4</td>\n",
              "      <td>0.2</td>\n",
              "      <td>Setosa</td>\n",
              "    </tr>\n",
              "  </tbody>\n",
              "</table>\n",
              "</div>\n",
              "      <button class=\"colab-df-convert\" onclick=\"convertToInteractive('df-4eb11246-c182-409a-984c-d49ab94f5cde')\"\n",
              "              title=\"Convert this dataframe to an interactive table.\"\n",
              "              style=\"display:none;\">\n",
              "        \n",
              "  <svg xmlns=\"http://www.w3.org/2000/svg\" height=\"24px\"viewBox=\"0 0 24 24\"\n",
              "       width=\"24px\">\n",
              "    <path d=\"M0 0h24v24H0V0z\" fill=\"none\"/>\n",
              "    <path d=\"M18.56 5.44l.94 2.06.94-2.06 2.06-.94-2.06-.94-.94-2.06-.94 2.06-2.06.94zm-11 1L8.5 8.5l.94-2.06 2.06-.94-2.06-.94L8.5 2.5l-.94 2.06-2.06.94zm10 10l.94 2.06.94-2.06 2.06-.94-2.06-.94-.94-2.06-.94 2.06-2.06.94z\"/><path d=\"M17.41 7.96l-1.37-1.37c-.4-.4-.92-.59-1.43-.59-.52 0-1.04.2-1.43.59L10.3 9.45l-7.72 7.72c-.78.78-.78 2.05 0 2.83L4 21.41c.39.39.9.59 1.41.59.51 0 1.02-.2 1.41-.59l7.78-7.78 2.81-2.81c.8-.78.8-2.07 0-2.86zM5.41 20L4 18.59l7.72-7.72 1.47 1.35L5.41 20z\"/>\n",
              "  </svg>\n",
              "      </button>\n",
              "      \n",
              "  <style>\n",
              "    .colab-df-container {\n",
              "      display:flex;\n",
              "      flex-wrap:wrap;\n",
              "      gap: 12px;\n",
              "    }\n",
              "\n",
              "    .colab-df-convert {\n",
              "      background-color: #E8F0FE;\n",
              "      border: none;\n",
              "      border-radius: 50%;\n",
              "      cursor: pointer;\n",
              "      display: none;\n",
              "      fill: #1967D2;\n",
              "      height: 32px;\n",
              "      padding: 0 0 0 0;\n",
              "      width: 32px;\n",
              "    }\n",
              "\n",
              "    .colab-df-convert:hover {\n",
              "      background-color: #E2EBFA;\n",
              "      box-shadow: 0px 1px 2px rgba(60, 64, 67, 0.3), 0px 1px 3px 1px rgba(60, 64, 67, 0.15);\n",
              "      fill: #174EA6;\n",
              "    }\n",
              "\n",
              "    [theme=dark] .colab-df-convert {\n",
              "      background-color: #3B4455;\n",
              "      fill: #D2E3FC;\n",
              "    }\n",
              "\n",
              "    [theme=dark] .colab-df-convert:hover {\n",
              "      background-color: #434B5C;\n",
              "      box-shadow: 0px 1px 3px 1px rgba(0, 0, 0, 0.15);\n",
              "      filter: drop-shadow(0px 1px 2px rgba(0, 0, 0, 0.3));\n",
              "      fill: #FFFFFF;\n",
              "    }\n",
              "  </style>\n",
              "\n",
              "      <script>\n",
              "        const buttonEl =\n",
              "          document.querySelector('#df-4eb11246-c182-409a-984c-d49ab94f5cde button.colab-df-convert');\n",
              "        buttonEl.style.display =\n",
              "          google.colab.kernel.accessAllowed ? 'block' : 'none';\n",
              "\n",
              "        async function convertToInteractive(key) {\n",
              "          const element = document.querySelector('#df-4eb11246-c182-409a-984c-d49ab94f5cde');\n",
              "          const dataTable =\n",
              "            await google.colab.kernel.invokeFunction('convertToInteractive',\n",
              "                                                     [key], {});\n",
              "          if (!dataTable) return;\n",
              "\n",
              "          const docLinkHtml = 'Like what you see? Visit the ' +\n",
              "            '<a target=\"_blank\" href=https://colab.research.google.com/notebooks/data_table.ipynb>data table notebook</a>'\n",
              "            + ' to learn more about interactive tables.';\n",
              "          element.innerHTML = '';\n",
              "          dataTable['output_type'] = 'display_data';\n",
              "          await google.colab.output.renderOutput(dataTable, element);\n",
              "          const docLink = document.createElement('div');\n",
              "          docLink.innerHTML = docLinkHtml;\n",
              "          element.appendChild(docLink);\n",
              "        }\n",
              "      </script>\n",
              "    </div>\n",
              "  </div>\n",
              "  "
            ]
          },
          "metadata": {},
          "execution_count": 204
        }
      ]
    },
    {
      "cell_type": "code",
      "source": [
        "iris.info()  #checking if there is any inconsistency in the dataset"
      ],
      "metadata": {
        "colab": {
          "base_uri": "https://localhost:8080/"
        },
        "id": "mH6c76eS8S5v",
        "outputId": "ea576666-fe27-4d95-d0ac-57e53dc31864"
      },
      "execution_count": null,
      "outputs": [
        {
          "output_type": "stream",
          "name": "stdout",
          "text": [
            "<class 'pandas.core.frame.DataFrame'>\n",
            "RangeIndex: 150 entries, 0 to 149\n",
            "Data columns (total 5 columns):\n",
            " #   Column        Non-Null Count  Dtype  \n",
            "---  ------        --------------  -----  \n",
            " 0   sepal.length  150 non-null    float64\n",
            " 1   sepal.width   150 non-null    float64\n",
            " 2   petal.length  150 non-null    float64\n",
            " 3   petal.width   150 non-null    float64\n",
            " 4   variety       150 non-null    object \n",
            "dtypes: float64(4), object(1)\n",
            "memory usage: 6.0+ KB\n"
          ]
        }
      ]
    },
    {
      "cell_type": "markdown",
      "source": [
        "**Balanced Dataset**\n",
        "\n",
        "Here, Iris Dataset is a balanced dataset because the number of data points for every class Setosa, Virginica, and Versicolor is 50. If the classes have different numbers of data points each then it’s an imbalanced dataset"
      ],
      "metadata": {
        "id": "JEZt8UiOutA-"
      }
    },
    {
      "cell_type": "code",
      "source": [
        "#count the no of values in each label\n",
        "iris['variety'].value_counts()"
      ],
      "metadata": {
        "colab": {
          "base_uri": "https://localhost:8080/"
        },
        "id": "Y2yt6m-k63Ci",
        "outputId": "f3bf5cca-4865-4409-ef87-30b08c828661"
      },
      "execution_count": null,
      "outputs": [
        {
          "output_type": "execute_result",
          "data": {
            "text/plain": [
              "Setosa        50\n",
              "Versicolor    50\n",
              "Virginica     50\n",
              "Name: variety, dtype: int64"
            ]
          },
          "metadata": {},
          "execution_count": 206
        }
      ]
    },
    {
      "cell_type": "code",
      "source": [
        "iris.describe()"
      ],
      "metadata": {
        "colab": {
          "base_uri": "https://localhost:8080/",
          "height": 297
        },
        "id": "cPOISdmr8hIU",
        "outputId": "5d2f4e29-9a99-49e5-e1fe-30983b905fd8"
      },
      "execution_count": null,
      "outputs": [
        {
          "output_type": "execute_result",
          "data": {
            "text/plain": [
              "       sepal.length  sepal.width  petal.length  petal.width\n",
              "count    150.000000   150.000000    150.000000   150.000000\n",
              "mean       5.843333     3.057333      3.758000     1.199333\n",
              "std        0.828066     0.435866      1.765298     0.762238\n",
              "min        4.300000     2.000000      1.000000     0.100000\n",
              "25%        5.100000     2.800000      1.600000     0.300000\n",
              "50%        5.800000     3.000000      4.350000     1.300000\n",
              "75%        6.400000     3.300000      5.100000     1.800000\n",
              "max        7.900000     4.400000      6.900000     2.500000"
            ],
            "text/html": [
              "\n",
              "  <div id=\"df-14a86745-2a5e-481f-a0b7-f8227a689383\">\n",
              "    <div class=\"colab-df-container\">\n",
              "      <div>\n",
              "<style scoped>\n",
              "    .dataframe tbody tr th:only-of-type {\n",
              "        vertical-align: middle;\n",
              "    }\n",
              "\n",
              "    .dataframe tbody tr th {\n",
              "        vertical-align: top;\n",
              "    }\n",
              "\n",
              "    .dataframe thead th {\n",
              "        text-align: right;\n",
              "    }\n",
              "</style>\n",
              "<table border=\"1\" class=\"dataframe\">\n",
              "  <thead>\n",
              "    <tr style=\"text-align: right;\">\n",
              "      <th></th>\n",
              "      <th>sepal.length</th>\n",
              "      <th>sepal.width</th>\n",
              "      <th>petal.length</th>\n",
              "      <th>petal.width</th>\n",
              "    </tr>\n",
              "  </thead>\n",
              "  <tbody>\n",
              "    <tr>\n",
              "      <th>count</th>\n",
              "      <td>150.000000</td>\n",
              "      <td>150.000000</td>\n",
              "      <td>150.000000</td>\n",
              "      <td>150.000000</td>\n",
              "    </tr>\n",
              "    <tr>\n",
              "      <th>mean</th>\n",
              "      <td>5.843333</td>\n",
              "      <td>3.057333</td>\n",
              "      <td>3.758000</td>\n",
              "      <td>1.199333</td>\n",
              "    </tr>\n",
              "    <tr>\n",
              "      <th>std</th>\n",
              "      <td>0.828066</td>\n",
              "      <td>0.435866</td>\n",
              "      <td>1.765298</td>\n",
              "      <td>0.762238</td>\n",
              "    </tr>\n",
              "    <tr>\n",
              "      <th>min</th>\n",
              "      <td>4.300000</td>\n",
              "      <td>2.000000</td>\n",
              "      <td>1.000000</td>\n",
              "      <td>0.100000</td>\n",
              "    </tr>\n",
              "    <tr>\n",
              "      <th>25%</th>\n",
              "      <td>5.100000</td>\n",
              "      <td>2.800000</td>\n",
              "      <td>1.600000</td>\n",
              "      <td>0.300000</td>\n",
              "    </tr>\n",
              "    <tr>\n",
              "      <th>50%</th>\n",
              "      <td>5.800000</td>\n",
              "      <td>3.000000</td>\n",
              "      <td>4.350000</td>\n",
              "      <td>1.300000</td>\n",
              "    </tr>\n",
              "    <tr>\n",
              "      <th>75%</th>\n",
              "      <td>6.400000</td>\n",
              "      <td>3.300000</td>\n",
              "      <td>5.100000</td>\n",
              "      <td>1.800000</td>\n",
              "    </tr>\n",
              "    <tr>\n",
              "      <th>max</th>\n",
              "      <td>7.900000</td>\n",
              "      <td>4.400000</td>\n",
              "      <td>6.900000</td>\n",
              "      <td>2.500000</td>\n",
              "    </tr>\n",
              "  </tbody>\n",
              "</table>\n",
              "</div>\n",
              "      <button class=\"colab-df-convert\" onclick=\"convertToInteractive('df-14a86745-2a5e-481f-a0b7-f8227a689383')\"\n",
              "              title=\"Convert this dataframe to an interactive table.\"\n",
              "              style=\"display:none;\">\n",
              "        \n",
              "  <svg xmlns=\"http://www.w3.org/2000/svg\" height=\"24px\"viewBox=\"0 0 24 24\"\n",
              "       width=\"24px\">\n",
              "    <path d=\"M0 0h24v24H0V0z\" fill=\"none\"/>\n",
              "    <path d=\"M18.56 5.44l.94 2.06.94-2.06 2.06-.94-2.06-.94-.94-2.06-.94 2.06-2.06.94zm-11 1L8.5 8.5l.94-2.06 2.06-.94-2.06-.94L8.5 2.5l-.94 2.06-2.06.94zm10 10l.94 2.06.94-2.06 2.06-.94-2.06-.94-.94-2.06-.94 2.06-2.06.94z\"/><path d=\"M17.41 7.96l-1.37-1.37c-.4-.4-.92-.59-1.43-.59-.52 0-1.04.2-1.43.59L10.3 9.45l-7.72 7.72c-.78.78-.78 2.05 0 2.83L4 21.41c.39.39.9.59 1.41.59.51 0 1.02-.2 1.41-.59l7.78-7.78 2.81-2.81c.8-.78.8-2.07 0-2.86zM5.41 20L4 18.59l7.72-7.72 1.47 1.35L5.41 20z\"/>\n",
              "  </svg>\n",
              "      </button>\n",
              "      \n",
              "  <style>\n",
              "    .colab-df-container {\n",
              "      display:flex;\n",
              "      flex-wrap:wrap;\n",
              "      gap: 12px;\n",
              "    }\n",
              "\n",
              "    .colab-df-convert {\n",
              "      background-color: #E8F0FE;\n",
              "      border: none;\n",
              "      border-radius: 50%;\n",
              "      cursor: pointer;\n",
              "      display: none;\n",
              "      fill: #1967D2;\n",
              "      height: 32px;\n",
              "      padding: 0 0 0 0;\n",
              "      width: 32px;\n",
              "    }\n",
              "\n",
              "    .colab-df-convert:hover {\n",
              "      background-color: #E2EBFA;\n",
              "      box-shadow: 0px 1px 2px rgba(60, 64, 67, 0.3), 0px 1px 3px 1px rgba(60, 64, 67, 0.15);\n",
              "      fill: #174EA6;\n",
              "    }\n",
              "\n",
              "    [theme=dark] .colab-df-convert {\n",
              "      background-color: #3B4455;\n",
              "      fill: #D2E3FC;\n",
              "    }\n",
              "\n",
              "    [theme=dark] .colab-df-convert:hover {\n",
              "      background-color: #434B5C;\n",
              "      box-shadow: 0px 1px 3px 1px rgba(0, 0, 0, 0.15);\n",
              "      filter: drop-shadow(0px 1px 2px rgba(0, 0, 0, 0.3));\n",
              "      fill: #FFFFFF;\n",
              "    }\n",
              "  </style>\n",
              "\n",
              "      <script>\n",
              "        const buttonEl =\n",
              "          document.querySelector('#df-14a86745-2a5e-481f-a0b7-f8227a689383 button.colab-df-convert');\n",
              "        buttonEl.style.display =\n",
              "          google.colab.kernel.accessAllowed ? 'block' : 'none';\n",
              "\n",
              "        async function convertToInteractive(key) {\n",
              "          const element = document.querySelector('#df-14a86745-2a5e-481f-a0b7-f8227a689383');\n",
              "          const dataTable =\n",
              "            await google.colab.kernel.invokeFunction('convertToInteractive',\n",
              "                                                     [key], {});\n",
              "          if (!dataTable) return;\n",
              "\n",
              "          const docLinkHtml = 'Like what you see? Visit the ' +\n",
              "            '<a target=\"_blank\" href=https://colab.research.google.com/notebooks/data_table.ipynb>data table notebook</a>'\n",
              "            + ' to learn more about interactive tables.';\n",
              "          element.innerHTML = '';\n",
              "          dataTable['output_type'] = 'display_data';\n",
              "          await google.colab.output.renderOutput(dataTable, element);\n",
              "          const docLink = document.createElement('div');\n",
              "          docLink.innerHTML = docLinkHtml;\n",
              "          element.appendChild(docLink);\n",
              "        }\n",
              "      </script>\n",
              "    </div>\n",
              "  </div>\n",
              "  "
            ]
          },
          "metadata": {},
          "execution_count": 207
        }
      ]
    },
    {
      "cell_type": "markdown",
      "source": [
        "Data Summary\n",
        "*   There are 150 observations with 4 features each (sepal length, sepal width, petal length, petal width).\n",
        "*   There are no null values, so we don't have to worry about that.\n",
        "*   There are 50 observations of each species (setosa, versicolor, virginica).\n",
        "*   Variety is the class label which we are predicting\n",
        "\n",
        "\n",
        "\n",
        "\n",
        "\n",
        "\n",
        "\n",
        "\n",
        "\n",
        "\n",
        "\n"
      ],
      "metadata": {
        "id": "8mxRzwCPLZ2U"
      }
    },
    {
      "cell_type": "code",
      "source": [
        "iris.groupby('variety').mean()"
      ],
      "metadata": {
        "colab": {
          "base_uri": "https://localhost:8080/",
          "height": 173
        },
        "id": "bMSptfNsHPrI",
        "outputId": "16080f4e-ce64-44de-a804-03765fceebf8"
      },
      "execution_count": null,
      "outputs": [
        {
          "output_type": "execute_result",
          "data": {
            "text/plain": [
              "            sepal.length  sepal.width  petal.length  petal.width\n",
              "variety                                                         \n",
              "Setosa             5.006        3.428         1.462        0.246\n",
              "Versicolor         5.936        2.770         4.260        1.326\n",
              "Virginica          6.588        2.974         5.552        2.026"
            ],
            "text/html": [
              "\n",
              "  <div id=\"df-282159b4-4db6-45a0-b5b9-7449d8ff6d70\">\n",
              "    <div class=\"colab-df-container\">\n",
              "      <div>\n",
              "<style scoped>\n",
              "    .dataframe tbody tr th:only-of-type {\n",
              "        vertical-align: middle;\n",
              "    }\n",
              "\n",
              "    .dataframe tbody tr th {\n",
              "        vertical-align: top;\n",
              "    }\n",
              "\n",
              "    .dataframe thead th {\n",
              "        text-align: right;\n",
              "    }\n",
              "</style>\n",
              "<table border=\"1\" class=\"dataframe\">\n",
              "  <thead>\n",
              "    <tr style=\"text-align: right;\">\n",
              "      <th></th>\n",
              "      <th>sepal.length</th>\n",
              "      <th>sepal.width</th>\n",
              "      <th>petal.length</th>\n",
              "      <th>petal.width</th>\n",
              "    </tr>\n",
              "    <tr>\n",
              "      <th>variety</th>\n",
              "      <th></th>\n",
              "      <th></th>\n",
              "      <th></th>\n",
              "      <th></th>\n",
              "    </tr>\n",
              "  </thead>\n",
              "  <tbody>\n",
              "    <tr>\n",
              "      <th>Setosa</th>\n",
              "      <td>5.006</td>\n",
              "      <td>3.428</td>\n",
              "      <td>1.462</td>\n",
              "      <td>0.246</td>\n",
              "    </tr>\n",
              "    <tr>\n",
              "      <th>Versicolor</th>\n",
              "      <td>5.936</td>\n",
              "      <td>2.770</td>\n",
              "      <td>4.260</td>\n",
              "      <td>1.326</td>\n",
              "    </tr>\n",
              "    <tr>\n",
              "      <th>Virginica</th>\n",
              "      <td>6.588</td>\n",
              "      <td>2.974</td>\n",
              "      <td>5.552</td>\n",
              "      <td>2.026</td>\n",
              "    </tr>\n",
              "  </tbody>\n",
              "</table>\n",
              "</div>\n",
              "      <button class=\"colab-df-convert\" onclick=\"convertToInteractive('df-282159b4-4db6-45a0-b5b9-7449d8ff6d70')\"\n",
              "              title=\"Convert this dataframe to an interactive table.\"\n",
              "              style=\"display:none;\">\n",
              "        \n",
              "  <svg xmlns=\"http://www.w3.org/2000/svg\" height=\"24px\"viewBox=\"0 0 24 24\"\n",
              "       width=\"24px\">\n",
              "    <path d=\"M0 0h24v24H0V0z\" fill=\"none\"/>\n",
              "    <path d=\"M18.56 5.44l.94 2.06.94-2.06 2.06-.94-2.06-.94-.94-2.06-.94 2.06-2.06.94zm-11 1L8.5 8.5l.94-2.06 2.06-.94-2.06-.94L8.5 2.5l-.94 2.06-2.06.94zm10 10l.94 2.06.94-2.06 2.06-.94-2.06-.94-.94-2.06-.94 2.06-2.06.94z\"/><path d=\"M17.41 7.96l-1.37-1.37c-.4-.4-.92-.59-1.43-.59-.52 0-1.04.2-1.43.59L10.3 9.45l-7.72 7.72c-.78.78-.78 2.05 0 2.83L4 21.41c.39.39.9.59 1.41.59.51 0 1.02-.2 1.41-.59l7.78-7.78 2.81-2.81c.8-.78.8-2.07 0-2.86zM5.41 20L4 18.59l7.72-7.72 1.47 1.35L5.41 20z\"/>\n",
              "  </svg>\n",
              "      </button>\n",
              "      \n",
              "  <style>\n",
              "    .colab-df-container {\n",
              "      display:flex;\n",
              "      flex-wrap:wrap;\n",
              "      gap: 12px;\n",
              "    }\n",
              "\n",
              "    .colab-df-convert {\n",
              "      background-color: #E8F0FE;\n",
              "      border: none;\n",
              "      border-radius: 50%;\n",
              "      cursor: pointer;\n",
              "      display: none;\n",
              "      fill: #1967D2;\n",
              "      height: 32px;\n",
              "      padding: 0 0 0 0;\n",
              "      width: 32px;\n",
              "    }\n",
              "\n",
              "    .colab-df-convert:hover {\n",
              "      background-color: #E2EBFA;\n",
              "      box-shadow: 0px 1px 2px rgba(60, 64, 67, 0.3), 0px 1px 3px 1px rgba(60, 64, 67, 0.15);\n",
              "      fill: #174EA6;\n",
              "    }\n",
              "\n",
              "    [theme=dark] .colab-df-convert {\n",
              "      background-color: #3B4455;\n",
              "      fill: #D2E3FC;\n",
              "    }\n",
              "\n",
              "    [theme=dark] .colab-df-convert:hover {\n",
              "      background-color: #434B5C;\n",
              "      box-shadow: 0px 1px 3px 1px rgba(0, 0, 0, 0.15);\n",
              "      filter: drop-shadow(0px 1px 2px rgba(0, 0, 0, 0.3));\n",
              "      fill: #FFFFFF;\n",
              "    }\n",
              "  </style>\n",
              "\n",
              "      <script>\n",
              "        const buttonEl =\n",
              "          document.querySelector('#df-282159b4-4db6-45a0-b5b9-7449d8ff6d70 button.colab-df-convert');\n",
              "        buttonEl.style.display =\n",
              "          google.colab.kernel.accessAllowed ? 'block' : 'none';\n",
              "\n",
              "        async function convertToInteractive(key) {\n",
              "          const element = document.querySelector('#df-282159b4-4db6-45a0-b5b9-7449d8ff6d70');\n",
              "          const dataTable =\n",
              "            await google.colab.kernel.invokeFunction('convertToInteractive',\n",
              "                                                     [key], {});\n",
              "          if (!dataTable) return;\n",
              "\n",
              "          const docLinkHtml = 'Like what you see? Visit the ' +\n",
              "            '<a target=\"_blank\" href=https://colab.research.google.com/notebooks/data_table.ipynb>data table notebook</a>'\n",
              "            + ' to learn more about interactive tables.';\n",
              "          element.innerHTML = '';\n",
              "          dataTable['output_type'] = 'display_data';\n",
              "          await google.colab.output.renderOutput(dataTable, element);\n",
              "          const docLink = document.createElement('div');\n",
              "          docLink.innerHTML = docLinkHtml;\n",
              "          element.appendChild(docLink);\n",
              "        }\n",
              "      </script>\n",
              "    </div>\n",
              "  </div>\n",
              "  "
            ]
          },
          "metadata": {},
          "execution_count": 208
        }
      ]
    },
    {
      "cell_type": "markdown",
      "source": [
        "**Checking for Missing Values**\n",
        "\n",
        "There are no missings values in the dataset\n",
        "\n",
        "**HANDLING MISSING VALUES & OUTLIERS**\n",
        "There appears to be no missing values in this dataset. Outliers are detected in some independent\n",
        "variable. The outliers will be retained as it falls within the possible range value in the prediction."
      ],
      "metadata": {
        "id": "cq37nzgbLGZD"
      }
    },
    {
      "cell_type": "code",
      "source": [
        "iris.isnull().sum()"
      ],
      "metadata": {
        "colab": {
          "base_uri": "https://localhost:8080/"
        },
        "id": "eYk9SO3hK6LK",
        "outputId": "e66e32ec-06ec-4d96-e358-b46a04d4e5a6"
      },
      "execution_count": null,
      "outputs": [
        {
          "output_type": "execute_result",
          "data": {
            "text/plain": [
              "sepal.length    0\n",
              "sepal.width     0\n",
              "petal.length    0\n",
              "petal.width     0\n",
              "variety         0\n",
              "dtype: int64"
            ]
          },
          "metadata": {},
          "execution_count": 209
        }
      ]
    },
    {
      "cell_type": "markdown",
      "source": [
        "#**EDA & Cleaning: Exploring Features**\n",
        "\n",
        "The dataset contains information of 3 classes of 50 samples from each of three species of Iris (Iris Setosa, Iris virginica, and Iris versicolor). Four features were measured from each sample: the length and the width of the sepals and petals, in centimeters.\n",
        "\n",
        "The columns in this dataset are:\n",
        "\n",
        "\n",
        "1. sepal.length\n",
        "2. sepal.width\n",
        "3. petal.length\n",
        "4. petal.width\n",
        "5. Variety"
      ],
      "metadata": {
        "id": "nP7__vbxLc_n"
      }
    },
    {
      "cell_type": "markdown",
      "source": [
        "**Plot Continuous Features**\n",
        "\n",
        "\n",
        "#Univariate Analysis"
      ],
      "metadata": {
        "id": "lxWouA9uI9Cy"
      }
    },
    {
      "cell_type": "code",
      "source": [
        "iris.hist(edgecolor='black', linewidth=1.2)\n",
        "fig=plt.gcf()\n",
        "fig.set_size_inches(12,6)\n",
        "plt.show()"
      ],
      "metadata": {
        "colab": {
          "base_uri": "https://localhost:8080/",
          "height": 393
        },
        "id": "wh8s6ZQSMWYp",
        "outputId": "00fe21cd-9ecc-439d-a832-6a16754a015c"
      },
      "execution_count": null,
      "outputs": [
        {
          "output_type": "display_data",
          "data": {
            "text/plain": [
              "<Figure size 864x432 with 4 Axes>"
            ],
            "image/png": "[encoded data removed]"
          },
          "metadata": {}
        }
      ]
    },
    {
      "cell_type": "markdown",
      "source": [
        "#Bi-Variate Analysis\n",
        "\n",
        "Histograms shows that two of the input attribute have Gaussian distribution"
      ],
      "metadata": {
        "id": "vghn2UBeoHW-"
      }
    },
    {
      "cell_type": "code",
      "source": [
        "# libraries & dataset\n",
        "import seaborn as sns\n",
        "import matplotlib.pyplot as plt\n",
        "# set a grey background (use sns.set_theme() if seaborn version 0.11.0 or above)\n",
        "sns.set(style=\"darkgrid\")\n",
        "df = sns.load_dataset(\"iris\")\n",
        "\n",
        "fig, axs = plt.subplots(2, 2, figsize=(7, 7))\n",
        "\n",
        "sns.histplot(data=df, x=\"sepal_length\", kde=True, color=\"skyblue\", ax=axs[0, 0])\n",
        "sns.histplot(data=df, x=\"sepal_width\", kde=True, color=\"olive\", ax=axs[0, 1])\n",
        "sns.histplot(data=df, x=\"petal_length\", kde=True, color=\"gold\", ax=axs[1, 0])\n",
        "sns.histplot(data=df, x=\"petal_width\", kde=True, color=\"teal\", ax=axs[1, 1])\n",
        "\n",
        "plt.show()\n"
      ],
      "metadata": {
        "colab": {
          "base_uri": "https://localhost:8080/",
          "height": 448
        },
        "id": "jft3nuT8ofYr",
        "outputId": "ef70cce5-dbec-4660-ef8b-35545968c4b2"
      },
      "execution_count": null,
      "outputs": [
        {
          "output_type": "display_data",
          "data": {
            "text/plain": [
              "<Figure size 504x504 with 4 Axes>"
            ],
            "image/png": "[encoded data removed]"
          },
          "metadata": {}
        }
      ]
    },
    {
      "cell_type": "markdown",
      "source": [
        "**Analysis of the Visualization**"
      ],
      "metadata": {
        "id": "jmGe4BcfksOW"
      }
    },
    {
      "cell_type": "markdown",
      "source": [
        "Relationship between species and sepal length"
      ],
      "metadata": {
        "id": "Oi6knwounx4J"
      }
    },
    {
      "cell_type": "code",
      "source": [
        "iris.plot(kind='scatter',x='sepal.width',y='sepal.length')"
      ],
      "metadata": {
        "colab": {
          "base_uri": "https://localhost:8080/",
          "height": 339
        },
        "id": "jTjyXcBZnxXC",
        "outputId": "271968d6-7962-46f8-da02-2bbb239402a4"
      },
      "execution_count": null,
      "outputs": [
        {
          "output_type": "stream",
          "name": "stderr",
          "text": [
            "WARNING:matplotlib.axes._axes:*c* argument looks like a single numeric RGB or RGBA sequence, which should be avoided as value-mapping will have precedence in case its length matches with *x* & *y*.  Please use the *color* keyword-argument or provide a 2-D array with a single row if you intend to specify the same RGB or RGBA value for all points.\n"
          ]
        },
        {
          "output_type": "execute_result",
          "data": {
            "text/plain": [
              "<matplotlib.axes._subplots.AxesSubplot at 0x7fc0e6645430>"
            ]
          },
          "metadata": {},
          "execution_count": 212
        },
        {
          "output_type": "display_data",
          "data": {
            "text/plain": [
              "<Figure size 432x288 with 1 Axes>"
            ],
            "image/png": "[encoded data removed]"
          },
          "metadata": {}
        }
      ]
    },
    {
      "cell_type": "markdown",
      "source": [
        "**Sepal_width distribution**\n",
        "* From the histogram , it can be observed that  this column is normally distributed which is  proven by the skewness value of (0.33). It indicates that the column is platikurtic."
      ],
      "metadata": {
        "id": "AiGkFVZFkw8w"
      }
    },
    {
      "cell_type": "code",
      "source": [
        "sns.FacetGrid(iris, hue=\"variety\", size=7) \\\n",
        ".map(sns.distplot,\"sepal.width\")\\\n",
        ".add_legend();\n",
        "plt.show();"
      ],
      "metadata": {
        "colab": {
          "base_uri": "https://localhost:8080/",
          "height": 563
        },
        "id": "qBxWdKjArEa8",
        "outputId": "4bec40bd-17ae-424a-bd73-8c457019b47d"
      },
      "execution_count": null,
      "outputs": [
        {
          "output_type": "stream",
          "name": "stderr",
          "text": [
            "/usr/local/lib/python3.8/dist-packages/seaborn/axisgrid.py:337: UserWarning: The `size` parameter has been renamed to `height`; please update your code.\n",
            "  warnings.warn(msg, UserWarning)\n"
          ]
        },
        {
          "output_type": "display_data",
          "data": {
            "text/plain": [
              "<Figure size 597.975x504 with 1 Axes>"
            ],
            "image/png": "[encoded data removed]"
          },
          "metadata": {}
        }
      ]
    },
    {
      "cell_type": "code",
      "source": [
        "sns.boxplot(data=iris.iloc[:,0:4])"
      ],
      "metadata": {
        "colab": {
          "base_uri": "https://localhost:8080/",
          "height": 285
        },
        "id": "UTdaQ7rp2tVt",
        "outputId": "789da251-7831-4bc5-ad6c-75812786b7b9"
      },
      "execution_count": null,
      "outputs": [
        {
          "output_type": "execute_result",
          "data": {
            "text/plain": [
              "<matplotlib.axes._subplots.AxesSubplot at 0x7fc0e6986430>"
            ]
          },
          "metadata": {},
          "execution_count": 214
        },
        {
          "output_type": "display_data",
          "data": {
            "text/plain": [
              "<Figure size 432x288 with 1 Axes>"
            ],
            "image/png": "[encoded data removed]"
          },
          "metadata": {}
        }
      ]
    },
    {
      "cell_type": "markdown",
      "source": [
        "**Correlation Analysis**\n",
        "\n"
      ],
      "metadata": {
        "id": "XG_G22E99IQ4"
      }
    },
    {
      "cell_type": "code",
      "source": [
        "plt.figure(figsize=(7,5))\n",
        "sns.heatmap(iris.corr(),annot=True,cmap='RdYlGn_r')\n",
        "plt.show()"
      ],
      "metadata": {
        "colab": {
          "base_uri": "https://localhost:8080/",
          "height": 326
        },
        "id": "wocRxw0l9GTA",
        "outputId": "2339b69c-607b-44d0-d5e2-ccd05768d475"
      },
      "execution_count": null,
      "outputs": [
        {
          "output_type": "display_data",
          "data": {
            "text/plain": [
              "<Figure size 504x360 with 2 Axes>"
            ],
            "image/png": "[encoded data removed]"
          },
          "metadata": {}
        }
      ]
    },
    {
      "cell_type": "markdown",
      "source": [
        "#**Data Pre-processing**\n",
        "\n",
        "This stage mainly focusses on preprocessing/clean the data from noise to improve the accuracy of the\n",
        "results, essentially reducing errors in the data. A Standard scaler normalization of the dataset is done\n",
        "to ensure that the data has equal weightage when building a classifier.\n",
        "\n",
        "**SMOTE**\n",
        "\n",
        "Also, in order to obtain an accurate and\n",
        "efficient model due to the imbalanced nature of the dataset, the Synthetic Minority Oversampling\n",
        "Technique (SMOTE) is applied. For this dataset, the aim is to ensure that all the target values\n",
        "have similar resulting row count.\n",
        "\n",
        "\n",
        "\n"
      ],
      "metadata": {
        "id": "bU_Ko4irazyb"
      }
    },
    {
      "cell_type": "markdown",
      "source": [
        "**Features Separating**\n",
        "\n",
        "In this section, the 'target' (dependent) column will be seperated from independent columns"
      ],
      "metadata": {
        "id": "kiAhWv_R_b4A"
      }
    },
    {
      "cell_type": "markdown",
      "source": [
        "*Label Encoding*\n",
        "\n",
        "**Convert variety to numeric**\n",
        "\n",
        "This section will perform label encoding for target column \"variety\" converting it to numeric type"
      ],
      "metadata": {
        "id": "2_KNBIYS_fEx"
      }
    },
    {
      "cell_type": "code",
      "source": [
        "X = iris.drop(columns = ['variety'])\n",
        "y = iris['variety'].values"
      ],
      "metadata": {
        "id": "eTwBRHBpGCpP"
      },
      "execution_count": null,
      "outputs": []
    },
    {
      "cell_type": "markdown",
      "source": [
        "After Encoding  'Iris-setosa' assigned as 0, 'Iris-versicolor' assigned as 1 and Iris=Virginica is assigned as 2."
      ],
      "metadata": {
        "id": "cIeLBSMKBOEM"
      }
    },
    {
      "cell_type": "code",
      "source": [
        "vareity_num = {'Setosa': 0, 'Versicolor': 1, 'Virginica': 2}\n",
        "\n",
        "iris['variety'] = iris['variety'].map(vareity_num)"
      ],
      "metadata": {
        "id": "rrG-bituOJiR"
      },
      "execution_count": null,
      "outputs": []
    },
    {
      "cell_type": "code",
      "source": [
        "# --- Perform Label Encoding ---\n",
        "from sklearn.preprocessing import LabelEncoder\n",
        "le = LabelEncoder()\n",
        "y = le.fit_transform(y)"
      ],
      "metadata": {
        "id": "ws3fiI5UAyre"
      },
      "execution_count": null,
      "outputs": []
    },
    {
      "cell_type": "code",
      "source": [
        "iris.head()"
      ],
      "metadata": {
        "colab": {
          "base_uri": "https://localhost:8080/",
          "height": 204
        },
        "id": "uBN-pnCzNv8C",
        "outputId": "492aad7a-c3e3-4ef1-e51c-a0445f2a41b6"
      },
      "execution_count": null,
      "outputs": [
        {
          "output_type": "execute_result",
          "data": {
            "text/plain": [
              "   sepal.length  sepal.width  petal.length  petal.width  variety\n",
              "0           5.1          3.5           1.4          0.2        0\n",
              "1           4.9          3.0           1.4          0.2        0\n",
              "2           4.7          3.2           1.3          0.2        0\n",
              "3           4.6          3.1           1.5          0.2        0\n",
              "4           5.0          3.6           1.4          0.2        0"
            ],
            "text/html": [
              "\n",
              "  <div id=\"df-90c40c3f-471c-4773-89c8-7bac8108277e\">\n",
              "    <div class=\"colab-df-container\">\n",
              "      <div>\n",
              "<style scoped>\n",
              "    .dataframe tbody tr th:only-of-type {\n",
              "        vertical-align: middle;\n",
              "    }\n",
              "\n",
              "    .dataframe tbody tr th {\n",
              "        vertical-align: top;\n",
              "    }\n",
              "\n",
              "    .dataframe thead th {\n",
              "        text-align: right;\n",
              "    }\n",
              "</style>\n",
              "<table border=\"1\" class=\"dataframe\">\n",
              "  <thead>\n",
              "    <tr style=\"text-align: right;\">\n",
              "      <th></th>\n",
              "      <th>sepal.length</th>\n",
              "      <th>sepal.width</th>\n",
              "      <th>petal.length</th>\n",
              "      <th>petal.width</th>\n",
              "      <th>variety</th>\n",
              "    </tr>\n",
              "  </thead>\n",
              "  <tbody>\n",
              "    <tr>\n",
              "      <th>0</th>\n",
              "      <td>5.1</td>\n",
              "      <td>3.5</td>\n",
              "      <td>1.4</td>\n",
              "      <td>0.2</td>\n",
              "      <td>0</td>\n",
              "    </tr>\n",
              "    <tr>\n",
              "      <th>1</th>\n",
              "      <td>4.9</td>\n",
              "      <td>3.0</td>\n",
              "      <td>1.4</td>\n",
              "      <td>0.2</td>\n",
              "      <td>0</td>\n",
              "    </tr>\n",
              "    <tr>\n",
              "      <th>2</th>\n",
              "      <td>4.7</td>\n",
              "      <td>3.2</td>\n",
              "      <td>1.3</td>\n",
              "      <td>0.2</td>\n",
              "      <td>0</td>\n",
              "    </tr>\n",
              "    <tr>\n",
              "      <th>3</th>\n",
              "      <td>4.6</td>\n",
              "      <td>3.1</td>\n",
              "      <td>1.5</td>\n",
              "      <td>0.2</td>\n",
              "      <td>0</td>\n",
              "    </tr>\n",
              "    <tr>\n",
              "      <th>4</th>\n",
              "      <td>5.0</td>\n",
              "      <td>3.6</td>\n",
              "      <td>1.4</td>\n",
              "      <td>0.2</td>\n",
              "      <td>0</td>\n",
              "    </tr>\n",
              "  </tbody>\n",
              "</table>\n",
              "</div>\n",
              "      <button class=\"colab-df-convert\" onclick=\"convertToInteractive('df-90c40c3f-471c-4773-89c8-7bac8108277e')\"\n",
              "              title=\"Convert this dataframe to an interactive table.\"\n",
              "              style=\"display:none;\">\n",
              "        \n",
              "  <svg xmlns=\"http://www.w3.org/2000/svg\" height=\"24px\"viewBox=\"0 0 24 24\"\n",
              "       width=\"24px\">\n",
              "    <path d=\"M0 0h24v24H0V0z\" fill=\"none\"/>\n",
              "    <path d=\"M18.56 5.44l.94 2.06.94-2.06 2.06-.94-2.06-.94-.94-2.06-.94 2.06-2.06.94zm-11 1L8.5 8.5l.94-2.06 2.06-.94-2.06-.94L8.5 2.5l-.94 2.06-2.06.94zm10 10l.94 2.06.94-2.06 2.06-.94-2.06-.94-.94-2.06-.94 2.06-2.06.94z\"/><path d=\"M17.41 7.96l-1.37-1.37c-.4-.4-.92-.59-1.43-.59-.52 0-1.04.2-1.43.59L10.3 9.45l-7.72 7.72c-.78.78-.78 2.05 0 2.83L4 21.41c.39.39.9.59 1.41.59.51 0 1.02-.2 1.41-.59l7.78-7.78 2.81-2.81c.8-.78.8-2.07 0-2.86zM5.41 20L4 18.59l7.72-7.72 1.47 1.35L5.41 20z\"/>\n",
              "  </svg>\n",
              "      </button>\n",
              "      \n",
              "  <style>\n",
              "    .colab-df-container {\n",
              "      display:flex;\n",
              "      flex-wrap:wrap;\n",
              "      gap: 12px;\n",
              "    }\n",
              "\n",
              "    .colab-df-convert {\n",
              "      background-color: #E8F0FE;\n",
              "      border: none;\n",
              "      border-radius: 50%;\n",
              "      cursor: pointer;\n",
              "      display: none;\n",
              "      fill: #1967D2;\n",
              "      height: 32px;\n",
              "      padding: 0 0 0 0;\n",
              "      width: 32px;\n",
              "    }\n",
              "\n",
              "    .colab-df-convert:hover {\n",
              "      background-color: #E2EBFA;\n",
              "      box-shadow: 0px 1px 2px rgba(60, 64, 67, 0.3), 0px 1px 3px 1px rgba(60, 64, 67, 0.15);\n",
              "      fill: #174EA6;\n",
              "    }\n",
              "\n",
              "    [theme=dark] .colab-df-convert {\n",
              "      background-color: #3B4455;\n",
              "      fill: #D2E3FC;\n",
              "    }\n",
              "\n",
              "    [theme=dark] .colab-df-convert:hover {\n",
              "      background-color: #434B5C;\n",
              "      box-shadow: 0px 1px 3px 1px rgba(0, 0, 0, 0.15);\n",
              "      filter: drop-shadow(0px 1px 2px rgba(0, 0, 0, 0.3));\n",
              "      fill: #FFFFFF;\n",
              "    }\n",
              "  </style>\n",
              "\n",
              "      <script>\n",
              "        const buttonEl =\n",
              "          document.querySelector('#df-90c40c3f-471c-4773-89c8-7bac8108277e button.colab-df-convert');\n",
              "        buttonEl.style.display =\n",
              "          google.colab.kernel.accessAllowed ? 'block' : 'none';\n",
              "\n",
              "        async function convertToInteractive(key) {\n",
              "          const element = document.querySelector('#df-90c40c3f-471c-4773-89c8-7bac8108277e');\n",
              "          const dataTable =\n",
              "            await google.colab.kernel.invokeFunction('convertToInteractive',\n",
              "                                                     [key], {});\n",
              "          if (!dataTable) return;\n",
              "\n",
              "          const docLinkHtml = 'Like what you see? Visit the ' +\n",
              "            '<a target=\"_blank\" href=https://colab.research.google.com/notebooks/data_table.ipynb>data table notebook</a>'\n",
              "            + ' to learn more about interactive tables.';\n",
              "          element.innerHTML = '';\n",
              "          dataTable['output_type'] = 'display_data';\n",
              "          await google.colab.output.renderOutput(dataTable, element);\n",
              "          const docLink = document.createElement('div');\n",
              "          docLink.innerHTML = docLinkHtml;\n",
              "          element.appendChild(docLink);\n",
              "        }\n",
              "      </script>\n",
              "    </div>\n",
              "  </div>\n",
              "  "
            ]
          },
          "metadata": {},
          "execution_count": 219
        }
      ]
    },
    {
      "cell_type": "markdown",
      "source": [
        "**Write out claned data**"
      ],
      "metadata": {
        "id": "EcfHa014RPG3"
      }
    },
    {
      "cell_type": "code",
      "source": [
        "#iris.to_excel('/content/iris_cleaned.xlsx', index=False)"
      ],
      "metadata": {
        "id": "tfui8m08ROnl"
      },
      "execution_count": null,
      "outputs": []
    },
    {
      "cell_type": "markdown",
      "source": [
        "**Scaling**\n",
        "\n",
        "The parameters used for scaling should ONLY be generated from training dataset and no data from testing should be used for the same, in order to ensure independence between training data and testing data."
      ],
      "metadata": {
        "id": "H_yvPWgH3Iid"
      }
    },
    {
      "cell_type": "markdown",
      "source": [
        "#**Modeling**\n",
        "\n",
        "The given problem is a **multi-class classification problem**, therefore, classification algorithms will be implemented to build the selected models (RF, Boosting and SVM).¶ In the case of this dataset, we are dealing with a multi-class data which is samples belonging to three classes (setosa, versicolor and virginica) and we want to learn from already labeled data how to predict the class of unlabeled data.\n",
        "\n",
        "**Measuring Success: Splitting up the data for train, validation and test set**.\n",
        "\n",
        "**First Requirement**\n",
        "\n",
        "Split the dataset up into the following segments:\n",
        "\n",
        "1. Training Data: 60%\n",
        "2. Validation Data: 20%\n",
        "3. Test Data: 20%\n",
        "\n"
      ],
      "metadata": {
        "id": "pMrIG9aNbLC4"
      }
    },
    {
      "cell_type": "markdown",
      "source": [
        "**Split into train, Validation and Test Set**\n",
        "\n",
        "After pre-processing and balancing the dataset, data splitting was performed on the\n",
        "oversampled/balanced dataset for cross validation. The dataset is split in 2 ways\n",
        "1) Into training 80% used to develop the predictive models while the and 10% testing  and 10% validation set used to evaluate the model’s\n",
        "\n",
        "2)  Into training 60% used to develop the predictive models while the and 20% testing  and 20% validation set used to evaluate the model’s\n",
        "performance to measure how well the selected model generalizes to new unseen dataset to make accurate features importance prediction on the dataset."
      ],
      "metadata": {
        "id": "4DKftdxyBrzz"
      }
    },
    {
      "cell_type": "code",
      "source": [
        "import pandas as  pd\n",
        "from sklearn.model_selection import train_test_split"
      ],
      "metadata": {
        "id": "4kPoNtOHetEB"
      },
      "execution_count": null,
      "outputs": []
    },
    {
      "cell_type": "code",
      "source": [
        "  features = iris.drop('variety', axis=1)\n",
        "  labels = iris['variety']\n",
        "\n",
        "\n",
        "  X_train, X_test, y_train, y_test = train_test_split(features, labels, test_size=0.4, random_state=42)\n",
        "  X_test, X_val, y_test, y_val = train_test_split(X_test, y_test, test_size=0.5, random_state=42)"
      ],
      "metadata": {
        "id": "sazyji8SSsJB"
      },
      "execution_count": null,
      "outputs": []
    },
    {
      "cell_type": "code",
      "source": [],
      "metadata": {
        "id": "vyTSocjChhqK"
      },
      "execution_count": null,
      "outputs": []
    },
    {
      "cell_type": "code",
      "source": [
        "\n",
        "#X_train, X_test, y_train, y_test = train_test_split(X, y, test_size=0.4, random_state=42)\n",
        "#X_test, X_val, y_test, y_val = train_test_split(X_test, y_test, test_size=0.5, random_state=42)"
      ],
      "metadata": {
        "id": "8XfLrhPo8szM"
      },
      "execution_count": null,
      "outputs": []
    },
    {
      "cell_type": "code",
      "source": [
        "for dataset in [y_train, y_val, y_test]:\n",
        "    print(round(len(dataset) / len(labels), 2))"
      ],
      "metadata": {
        "colab": {
          "base_uri": "https://localhost:8080/"
        },
        "id": "ILoCszPjDFbz",
        "outputId": "f3ed5a2d-5e30-4757-9918-c843ae5080e4"
      },
      "execution_count": null,
      "outputs": [
        {
          "output_type": "stream",
          "name": "stdout",
          "text": [
            "0.6\n",
            "0.2\n",
            "0.2\n"
          ]
        }
      ]
    },
    {
      "cell_type": "markdown",
      "source": [
        "The code below verifys that:\n",
        "the total length of labels which represents our full dataset is= 150\n",
        "\n",
        "\n",
        "*   Length of y_train= 60% of the iris dataset = 90\n",
        "*   Length of y_val =  20% of the iris dataset = 30\n",
        "*   Length of y_test = 20% of the iris dataset = 30\n",
        "\n",
        "\n",
        "\n",
        "\n"
      ],
      "metadata": {
        "id": "HOvoR9s_FYBX"
      }
    },
    {
      "cell_type": "code",
      "source": [
        "print(len(X),len(y_train),len(y_val),len(y_test))"
      ],
      "metadata": {
        "colab": {
          "base_uri": "https://localhost:8080/"
        },
        "id": "h2qDezwdEq5v",
        "outputId": "7d50040c-655e-4cc8-e068-f4cf885cb0bd"
      },
      "execution_count": null,
      "outputs": [
        {
          "output_type": "stream",
          "name": "stdout",
          "text": [
            "150 90 30 30\n"
          ]
        }
      ]
    },
    {
      "cell_type": "markdown",
      "source": [
        "**Write out Data**"
      ],
      "metadata": {
        "id": "WG9GdnVBCgpd"
      }
    },
    {
      "cell_type": "code",
      "source": [
        "# Read in all features\n",
        "\n",
        "iris_train = X_train\n",
        "iris_val = X_val\n",
        "iris_test = X_test\n",
        "\n",
        "\n",
        "iris_train.head()\n",
        "\n"
      ],
      "metadata": {
        "colab": {
          "base_uri": "https://localhost:8080/",
          "height": 204
        },
        "id": "Ipo-TW_2EhNT",
        "outputId": "d433c40a-82d0-4008-adff-dd370610268f"
      },
      "execution_count": null,
      "outputs": [
        {
          "output_type": "execute_result",
          "data": {
            "text/plain": [
              "     sepal.length  sepal.width  petal.length  petal.width\n",
              "123           6.3          2.7           4.9          1.8\n",
              "24            4.8          3.4           1.9          0.2\n",
              "25            5.0          3.0           1.6          0.2\n",
              "23            5.1          3.3           1.7          0.5\n",
              "94            5.6          2.7           4.2          1.3"
            ],
            "text/html": [
              "\n",
              "  <div id=\"df-4dc12eb5-b8f9-4a31-aab8-35af7cf7920d\">\n",
              "    <div class=\"colab-df-container\">\n",
              "      <div>\n",
              "<style scoped>\n",
              "    .dataframe tbody tr th:only-of-type {\n",
              "        vertical-align: middle;\n",
              "    }\n",
              "\n",
              "    .dataframe tbody tr th {\n",
              "        vertical-align: top;\n",
              "    }\n",
              "\n",
              "    .dataframe thead th {\n",
              "        text-align: right;\n",
              "    }\n",
              "</style>\n",
              "<table border=\"1\" class=\"dataframe\">\n",
              "  <thead>\n",
              "    <tr style=\"text-align: right;\">\n",
              "      <th></th>\n",
              "      <th>sepal.length</th>\n",
              "      <th>sepal.width</th>\n",
              "      <th>petal.length</th>\n",
              "      <th>petal.width</th>\n",
              "    </tr>\n",
              "  </thead>\n",
              "  <tbody>\n",
              "    <tr>\n",
              "      <th>123</th>\n",
              "      <td>6.3</td>\n",
              "      <td>2.7</td>\n",
              "      <td>4.9</td>\n",
              "      <td>1.8</td>\n",
              "    </tr>\n",
              "    <tr>\n",
              "      <th>24</th>\n",
              "      <td>4.8</td>\n",
              "      <td>3.4</td>\n",
              "      <td>1.9</td>\n",
              "      <td>0.2</td>\n",
              "    </tr>\n",
              "    <tr>\n",
              "      <th>25</th>\n",
              "      <td>5.0</td>\n",
              "      <td>3.0</td>\n",
              "      <td>1.6</td>\n",
              "      <td>0.2</td>\n",
              "    </tr>\n",
              "    <tr>\n",
              "      <th>23</th>\n",
              "      <td>5.1</td>\n",
              "      <td>3.3</td>\n",
              "      <td>1.7</td>\n",
              "      <td>0.5</td>\n",
              "    </tr>\n",
              "    <tr>\n",
              "      <th>94</th>\n",
              "      <td>5.6</td>\n",
              "      <td>2.7</td>\n",
              "      <td>4.2</td>\n",
              "      <td>1.3</td>\n",
              "    </tr>\n",
              "  </tbody>\n",
              "</table>\n",
              "</div>\n",
              "      <button class=\"colab-df-convert\" onclick=\"convertToInteractive('df-4dc12eb5-b8f9-4a31-aab8-35af7cf7920d')\"\n",
              "              title=\"Convert this dataframe to an interactive table.\"\n",
              "              style=\"display:none;\">\n",
              "        \n",
              "  <svg xmlns=\"http://www.w3.org/2000/svg\" height=\"24px\"viewBox=\"0 0 24 24\"\n",
              "       width=\"24px\">\n",
              "    <path d=\"M0 0h24v24H0V0z\" fill=\"none\"/>\n",
              "    <path d=\"M18.56 5.44l.94 2.06.94-2.06 2.06-.94-2.06-.94-.94-2.06-.94 2.06-2.06.94zm-11 1L8.5 8.5l.94-2.06 2.06-.94-2.06-.94L8.5 2.5l-.94 2.06-2.06.94zm10 10l.94 2.06.94-2.06 2.06-.94-2.06-.94-.94-2.06-.94 2.06-2.06.94z\"/><path d=\"M17.41 7.96l-1.37-1.37c-.4-.4-.92-.59-1.43-.59-.52 0-1.04.2-1.43.59L10.3 9.45l-7.72 7.72c-.78.78-.78 2.05 0 2.83L4 21.41c.39.39.9.59 1.41.59.51 0 1.02-.2 1.41-.59l7.78-7.78 2.81-2.81c.8-.78.8-2.07 0-2.86zM5.41 20L4 18.59l7.72-7.72 1.47 1.35L5.41 20z\"/>\n",
              "  </svg>\n",
              "      </button>\n",
              "      \n",
              "  <style>\n",
              "    .colab-df-container {\n",
              "      display:flex;\n",
              "      flex-wrap:wrap;\n",
              "      gap: 12px;\n",
              "    }\n",
              "\n",
              "    .colab-df-convert {\n",
              "      background-color: #E8F0FE;\n",
              "      border: none;\n",
              "      border-radius: 50%;\n",
              "      cursor: pointer;\n",
              "      display: none;\n",
              "      fill: #1967D2;\n",
              "      height: 32px;\n",
              "      padding: 0 0 0 0;\n",
              "      width: 32px;\n",
              "    }\n",
              "\n",
              "    .colab-df-convert:hover {\n",
              "      background-color: #E2EBFA;\n",
              "      box-shadow: 0px 1px 2px rgba(60, 64, 67, 0.3), 0px 1px 3px 1px rgba(60, 64, 67, 0.15);\n",
              "      fill: #174EA6;\n",
              "    }\n",
              "\n",
              "    [theme=dark] .colab-df-convert {\n",
              "      background-color: #3B4455;\n",
              "      fill: #D2E3FC;\n",
              "    }\n",
              "\n",
              "    [theme=dark] .colab-df-convert:hover {\n",
              "      background-color: #434B5C;\n",
              "      box-shadow: 0px 1px 3px 1px rgba(0, 0, 0, 0.15);\n",
              "      filter: drop-shadow(0px 1px 2px rgba(0, 0, 0, 0.3));\n",
              "      fill: #FFFFFF;\n",
              "    }\n",
              "  </style>\n",
              "\n",
              "      <script>\n",
              "        const buttonEl =\n",
              "          document.querySelector('#df-4dc12eb5-b8f9-4a31-aab8-35af7cf7920d button.colab-df-convert');\n",
              "        buttonEl.style.display =\n",
              "          google.colab.kernel.accessAllowed ? 'block' : 'none';\n",
              "\n",
              "        async function convertToInteractive(key) {\n",
              "          const element = document.querySelector('#df-4dc12eb5-b8f9-4a31-aab8-35af7cf7920d');\n",
              "          const dataTable =\n",
              "            await google.colab.kernel.invokeFunction('convertToInteractive',\n",
              "                                                     [key], {});\n",
              "          if (!dataTable) return;\n",
              "\n",
              "          const docLinkHtml = 'Like what you see? Visit the ' +\n",
              "            '<a target=\"_blank\" href=https://colab.research.google.com/notebooks/data_table.ipynb>data table notebook</a>'\n",
              "            + ' to learn more about interactive tables.';\n",
              "          element.innerHTML = '';\n",
              "          dataTable['output_type'] = 'display_data';\n",
              "          await google.colab.output.renderOutput(dataTable, element);\n",
              "          const docLink = document.createElement('div');\n",
              "          docLink.innerHTML = docLinkHtml;\n",
              "          element.appendChild(docLink);\n",
              "        }\n",
              "      </script>\n",
              "    </div>\n",
              "  </div>\n",
              "  "
            ]
          },
          "metadata": {},
          "execution_count": 226
        }
      ]
    },
    {
      "cell_type": "code",
      "source": [
        "\n",
        "\n",
        "iris_train_labels = y_train\n",
        "iris_val_labels = y_val\n",
        "iris_test_labels = y_test\n"
      ],
      "metadata": {
        "id": "4iizluGMPFZm"
      },
      "execution_count": null,
      "outputs": []
    },
    {
      "cell_type": "code",
      "source": [
        "from sklearn.preprocessing import StandardScaler #for standardization\n",
        "scaler = StandardScaler()\n",
        "X_train = scaler.fit_transform(iris_train)\n",
        "X_test = scaler.transform(iris_test)"
      ],
      "metadata": {
        "id": "WfNSZbWY4QN_"
      },
      "execution_count": null,
      "outputs": []
    },
    {
      "cell_type": "markdown",
      "source": [
        "#**MODEL SELECTION**\n",
        "This stage of the report will show how machine learning algorithms were applied to both the training\n",
        "set (to develop the various classification models) and validation and test set (to evaluate the generated model’s\n",
        "performance). As seen below, an enhanced proposed model is built with hyperparameter tuning using cross\n",
        "validation methods to enhance the models."
      ],
      "metadata": {
        "id": "zxkk-Yr85iMg"
      }
    },
    {
      "cell_type": "markdown",
      "source": [
        "#**Random Forest Classifier**\n",
        "\n",
        "Random is a supervised machine learning algorithm based on ensemble learning used widely for regression and classification problems .  Based its random nature, it is able to create decision trees on randomly selected training datasets and obtain predictions from these trees for modelling outcome."
      ],
      "metadata": {
        "id": "nXQSJau7jGK6"
      }
    },
    {
      "cell_type": "code",
      "source": [
        "import joblib\n",
        "import pandas as pd\n",
        "from sklearn.ensemble import RandomForestClassifier\n",
        "from sklearn.model_selection import GridSearchCV\n",
        "import warnings\n",
        "warnings.filterwarnings('ignore', category=FutureWarning)\n",
        "warnings.filterwarnings('ignore', category=DeprecationWarning)\n",
        "\n",
        "tr_features = iris_train\n",
        "tr_labels = iris_train_labels"
      ],
      "metadata": {
        "id": "sImL-d3QhIB3"
      },
      "execution_count": null,
      "outputs": []
    },
    {
      "cell_type": "code",
      "source": [
        "def print_results(results):\n",
        "    print('BEST PARAMS: {}\\n'.format(results.best_params_))\n",
        "\n",
        "    means = results.cv_results_['mean_test_score']\n",
        "    stds = results.cv_results_['std_test_score']\n",
        "    for mean, std, params in zip(means, stds, results.cv_results_['params']):\n",
        "        print('{} (+/-{}) for {}'.format(round(mean, 3), round(std * 2, 3), params))"
      ],
      "metadata": {
        "id": "275tFBOX6wVM"
      },
      "execution_count": null,
      "outputs": []
    },
    {
      "cell_type": "markdown",
      "source": [
        "**Hyper parameter Tuning**"
      ],
      "metadata": {
        "id": "Jb5pq5H-Dbjo"
      }
    },
    {
      "cell_type": "code",
      "source": [
        "rf = RandomForestClassifier()\n",
        "parameters = {\n",
        "    'n_estimators': [5, 50, 250],\n",
        "    'max_depth': [2, 4, 8, 16, 32, None]\n",
        "}\n",
        "\n",
        "cv = GridSearchCV(rf, parameters, cv=5)\n",
        "cv.fit(tr_features, tr_labels.values.ravel())\n",
        "\n",
        "print_results(cv)"
      ],
      "metadata": {
        "colab": {
          "base_uri": "https://localhost:8080/"
        },
        "id": "8SErn8yA6wN5",
        "outputId": "19478d4b-bbe8-4e0c-e313-fcfc4634a49e"
      },
      "execution_count": null,
      "outputs": [
        {
          "output_type": "stream",
          "name": "stdout",
          "text": [
            "BEST PARAMS: {'max_depth': 4, 'n_estimators': 50}\n",
            "\n",
            "0.922 (+/-0.206) for {'max_depth': 2, 'n_estimators': 5}\n",
            "0.922 (+/-0.206) for {'max_depth': 2, 'n_estimators': 50}\n",
            "0.922 (+/-0.206) for {'max_depth': 2, 'n_estimators': 250}\n",
            "0.878 (+/-0.215) for {'max_depth': 4, 'n_estimators': 5}\n",
            "0.933 (+/-0.215) for {'max_depth': 4, 'n_estimators': 50}\n",
            "0.911 (+/-0.194) for {'max_depth': 4, 'n_estimators': 250}\n",
            "0.889 (+/-0.199) for {'max_depth': 8, 'n_estimators': 5}\n",
            "0.922 (+/-0.206) for {'max_depth': 8, 'n_estimators': 50}\n",
            "0.933 (+/-0.215) for {'max_depth': 8, 'n_estimators': 250}\n",
            "0.889 (+/-0.172) for {'max_depth': 16, 'n_estimators': 5}\n",
            "0.911 (+/-0.194) for {'max_depth': 16, 'n_estimators': 50}\n",
            "0.922 (+/-0.206) for {'max_depth': 16, 'n_estimators': 250}\n",
            "0.911 (+/-0.206) for {'max_depth': 32, 'n_estimators': 5}\n",
            "0.922 (+/-0.206) for {'max_depth': 32, 'n_estimators': 50}\n",
            "0.911 (+/-0.194) for {'max_depth': 32, 'n_estimators': 250}\n",
            "0.911 (+/-0.194) for {'max_depth': None, 'n_estimators': 5}\n",
            "0.922 (+/-0.206) for {'max_depth': None, 'n_estimators': 50}\n",
            "0.911 (+/-0.194) for {'max_depth': None, 'n_estimators': 250}\n"
          ]
        }
      ]
    },
    {
      "cell_type": "code",
      "source": [
        "joblib.dump(cv.best_estimator_, '../../../RF_model.pkl')"
      ],
      "metadata": {
        "colab": {
          "base_uri": "https://localhost:8080/"
        },
        "id": "Hl-ffx8K6wFN",
        "outputId": "d86218e2-80f7-449f-e7bc-30c680aaa9ee"
      },
      "execution_count": null,
      "outputs": [
        {
          "output_type": "execute_result",
          "data": {
            "text/plain": [
              "['../../../RF_model.pkl']"
            ]
          },
          "metadata": {},
          "execution_count": 247
        }
      ]
    },
    {
      "cell_type": "code",
      "source": [
        "models = {}\n",
        "\n",
        "for md in ['cv']:\n",
        "  models[md] = joblib.load('../../../RF_model.pkl'.format(md))"
      ],
      "metadata": {
        "id": "dxxqQMmIqXDh"
      },
      "execution_count": null,
      "outputs": []
    },
    {
      "cell_type": "code",
      "source": [
        "from time import time\n",
        "def evaluate_model(name, model, features, labels):\n",
        "    start = time()\n",
        "    pred = model.predict(features)\n",
        "    end = time()\n",
        "    accuracy = round(accuracy_score(labels, pred), 3)\n",
        "    precision = round(precision_score(labels, pred, average='weighted'), 3)\n",
        "    recall = round(recall_score(labels, pred, average='weighted'), 3)\n",
        "    print('{} -- \\tAccuracy: {} / Precision: {} / Recall: {} / Latency: {}ms'.format(name,\n",
        "                                                                                     accuracy,\n",
        "                                                                                     precision,\n",
        "                                                                                     recall,\n",
        "                                                                                     round((end - start)*1000, 1)))\n",
        ""
      ],
      "metadata": {
        "id": "W4g9hsrZ8ecc"
      },
      "execution_count": null,
      "outputs": []
    },
    {
      "cell_type": "code",
      "source": [
        "evaluate_model('Random Forest Model test', models['cv'], iris_test, iris_test_labels)"
      ],
      "metadata": {
        "colab": {
          "base_uri": "https://localhost:8080/"
        },
        "id": "0vkT46aq8l7f",
        "outputId": "d46e9d47-236d-4dbb-b0d2-dc206f737d0b"
      },
      "execution_count": null,
      "outputs": [
        {
          "output_type": "stream",
          "name": "stdout",
          "text": [
            "Random Forest Model test -- \tAccuracy: 1.0 / Precision: 1.0 / Recall: 1.0 / Latency: 13.2ms\n"
          ]
        }
      ]
    },
    {
      "cell_type": "code",
      "source": [
        "evaluate_model('Random Forest Model Val', models['cv'], iris_val, iris_val_labels)"
      ],
      "metadata": {
        "colab": {
          "base_uri": "https://localhost:8080/"
        },
        "id": "7B9kb5qHDhla",
        "outputId": "3bfa888e-f471-4cc7-d24f-63638629a535"
      },
      "execution_count": null,
      "outputs": [
        {
          "output_type": "stream",
          "name": "stdout",
          "text": [
            "Random Forest Model Val -- \tAccuracy: 0.967 / Precision: 0.969 / Recall: 0.967 / Latency: 18.1ms\n"
          ]
        }
      ]
    },
    {
      "cell_type": "markdown",
      "source": [
        "#Support Vector Machine (SVM)\n",
        "\n",
        "SVM is a supervised machine learning algorithm that can be applied for both regression and classification problems. SVM classify data into two or more classes as it is designed for binary classification. In applying SVM, it is known to achieve better results when compared to other classifiers (Abedi et al., 2012).  It is used to obtain the most appropriate hyperplane which can split the dataset into two classes of 0 and 1.   When the input feature vectors are non - linearly separable, SVM first uses the kernel trick to map the data into a high dimensional feature space (Boateng et al., 2020) and then classifies the data using the maximal margin hyper-plane as follows:\n",
        "\n"
      ],
      "metadata": {
        "id": "3-6y_U7Q_-j8"
      }
    },
    {
      "cell_type": "code",
      "source": [
        "import joblib\n",
        "import pandas as pd\n",
        "from sklearn.model_selection import GridSearchCV\n",
        "from sklearn.svm import SVC\n",
        "import warnings\n",
        "warnings.filterwarnings('ignore', category=FutureWarning)\n",
        "warnings.filterwarnings('ignore', category=DeprecationWarning)\n",
        "\n",
        "tr_features = iris_train\n",
        "tr_labels = iris_train_labels"
      ],
      "metadata": {
        "id": "DRI1aU4HBOnh"
      },
      "execution_count": null,
      "outputs": []
    },
    {
      "cell_type": "code",
      "source": [
        "def print_results(results):\n",
        "    print('BEST PARAMS: {}\\n'.format(results.best_params_))\n",
        "\n",
        "    means = results.cv_results_['mean_test_score']\n",
        "    stds = results.cv_results_['std_test_score']\n",
        "    for mean, std, params in zip(means, stds, results.cv_results_['params']):\n",
        "        print('{} (+/-{}) for {}'.format(round(mean, 3), round(std * 2, 3), params))"
      ],
      "metadata": {
        "id": "BQxbxX1BBYD9"
      },
      "execution_count": null,
      "outputs": []
    },
    {
      "cell_type": "code",
      "source": [
        "svc = SVC()\n",
        "parameters = {\n",
        "    'kernel': ['linear', 'rbf'],\n",
        "    'C': [0.1, 1, 10]\n",
        "}\n",
        "\n",
        "cv = GridSearchCV(svc, parameters, cv=5)\n",
        "cv.fit(tr_features, tr_labels.values.ravel())\n",
        "\n",
        "print_results(cv)"
      ],
      "metadata": {
        "colab": {
          "base_uri": "https://localhost:8080/"
        },
        "id": "xV_XWI3JElPu",
        "outputId": "1f6cfdef-af20-46eb-fbdd-8c22c4764688"
      },
      "execution_count": null,
      "outputs": [
        {
          "output_type": "stream",
          "name": "stdout",
          "text": [
            "BEST PARAMS: {'C': 1, 'kernel': 'linear'}\n",
            "\n",
            "0.922 (+/-0.113) for {'C': 0.1, 'kernel': 'linear'}\n",
            "0.8 (+/-0.218) for {'C': 0.1, 'kernel': 'rbf'}\n",
            "0.956 (+/-0.083) for {'C': 1, 'kernel': 'linear'}\n",
            "0.922 (+/-0.113) for {'C': 1, 'kernel': 'rbf'}\n",
            "0.933 (+/-0.109) for {'C': 10, 'kernel': 'linear'}\n",
            "0.944 (+/-0.07) for {'C': 10, 'kernel': 'rbf'}\n"
          ]
        }
      ]
    },
    {
      "cell_type": "code",
      "source": [
        "cv.best_estimator_"
      ],
      "metadata": {
        "colab": {
          "base_uri": "https://localhost:8080/"
        },
        "id": "2ulSFHKyG-XV",
        "outputId": "41ac41dc-3f84-4b52-98ee-7b7384837f2e"
      },
      "execution_count": null,
      "outputs": [
        {
          "output_type": "execute_result",
          "data": {
            "text/plain": [
              "SVC(C=1, kernel='linear')"
            ]
          },
          "metadata": {},
          "execution_count": 256
        }
      ]
    },
    {
      "cell_type": "code",
      "source": [
        "joblib.dump(cv.best_estimator_, '../../../SVM_model.pkl')"
      ],
      "metadata": {
        "colab": {
          "base_uri": "https://localhost:8080/"
        },
        "id": "4ZCux2ymG_68",
        "outputId": "95b68259-042c-4789-f200-aea2a8dfc001"
      },
      "execution_count": null,
      "outputs": [
        {
          "output_type": "execute_result",
          "data": {
            "text/plain": [
              "['../../../SVM_model.pkl']"
            ]
          },
          "metadata": {},
          "execution_count": 257
        }
      ]
    },
    {
      "cell_type": "code",
      "source": [
        "models = {}\n",
        "\n",
        "for md in ['cv']:\n",
        "  models[md] = joblib.load('../../../SVM_model.pkl'.format(md))"
      ],
      "metadata": {
        "id": "IFZ6RilFHDKv"
      },
      "execution_count": null,
      "outputs": []
    },
    {
      "cell_type": "code",
      "source": [
        "from time import time\n",
        "def evaluate_model(name, model, features, labels):\n",
        "    start = time()\n",
        "    pred = model.predict(features)\n",
        "    end = time()\n",
        "    accuracy = round(accuracy_score(labels, pred), 3)\n",
        "    precision = round(precision_score(labels, pred, average='weighted'), 3)\n",
        "    recall = round(recall_score(labels, pred, average='weighted'), 3)\n",
        "    print('{} -- \\tAccuracy: {} / Precision: {} / Recall: {} / Latency: {}ms'.format(name,\n",
        "                                                                                     accuracy,\n",
        "                                                                                     precision,\n",
        "                                                                                     recall,\n",
        "                                                                                     round((end - start)*1000, 1)))"
      ],
      "metadata": {
        "id": "DqHrI6a_HR2Z"
      },
      "execution_count": null,
      "outputs": []
    },
    {
      "cell_type": "markdown",
      "source": [
        "**Evaluate Models on Test and Validation Set**"
      ],
      "metadata": {
        "id": "cSMVM9_ZVzpF"
      }
    },
    {
      "cell_type": "code",
      "source": [
        "evaluate_model('SVM Model test', models['cv'], iris_test, iris_test_labels)"
      ],
      "metadata": {
        "colab": {
          "base_uri": "https://localhost:8080/"
        },
        "id": "nzSfoBrzHrOf",
        "outputId": "d5ff4017-bd17-4a67-81c5-e7a90ac9d898"
      },
      "execution_count": null,
      "outputs": [
        {
          "output_type": "stream",
          "name": "stdout",
          "text": [
            "SVM Model test -- \tAccuracy: 1.0 / Precision: 1.0 / Recall: 1.0 / Latency: 2.1ms\n"
          ]
        }
      ]
    },
    {
      "cell_type": "code",
      "source": [
        "evaluate_model('SVM Val', models['cv'], iris_val, iris_val_labels)"
      ],
      "metadata": {
        "colab": {
          "base_uri": "https://localhost:8080/"
        },
        "id": "RQoiI4a5IB1N",
        "outputId": "0dbf7fa5-a872-4811-84b5-998b63c9c06c"
      },
      "execution_count": null,
      "outputs": [
        {
          "output_type": "stream",
          "name": "stdout",
          "text": [
            "SVM Val -- \tAccuracy: 1.0 / Precision: 1.0 / Recall: 1.0 / Latency: 2.1ms\n"
          ]
        }
      ]
    },
    {
      "cell_type": "markdown",
      "source": [
        "##XGBoost\n",
        "\n",
        "**Fit and evaluate a basic model using 5-fold Cross-Validation**"
      ],
      "metadata": {
        "id": "Z-PQG_QvRo-L"
      }
    },
    {
      "cell_type": "code",
      "source": [
        "import pandas as pd\n",
        "from xgboost import XGBClassifier\n",
        "from sklearn.model_selection import cross_val_score\n",
        "import warnings\n",
        "\n",
        "tr_features = iris_train\n",
        "tr_labels = iris_train_labels"
      ],
      "metadata": {
        "id": "hrRVwHYNRrJZ"
      },
      "execution_count": null,
      "outputs": []
    },
    {
      "cell_type": "code",
      "source": [
        "XGBoost = XGBClassifier()\n",
        "\n",
        "scores = cross_val_score(rf, tr_features, tr_labels.values.ravel(), cv=5)"
      ],
      "metadata": {
        "id": "JcLfGp07SWbm"
      },
      "execution_count": null,
      "outputs": []
    },
    {
      "cell_type": "code",
      "source": [
        "scores"
      ],
      "metadata": {
        "colab": {
          "base_uri": "https://localhost:8080/"
        },
        "id": "HNG9p4m9SWXs",
        "outputId": "35c0a10c-9e82-493a-b0b8-5b4c14a56725"
      },
      "execution_count": null,
      "outputs": [
        {
          "output_type": "execute_result",
          "data": {
            "text/plain": [
              "array([1.        , 0.72222222, 1.        , 0.94444444, 0.94444444])"
            ]
          },
          "metadata": {},
          "execution_count": 265
        }
      ]
    },
    {
      "cell_type": "markdown",
      "source": [
        "**Grid Search to find optimal hyperparameters**"
      ],
      "metadata": {
        "id": "YxvF2a50ZfRX"
      }
    },
    {
      "cell_type": "code",
      "source": [
        "import pandas as pd\n",
        "from sklearn.model_selection import GridSearchCV\n",
        "\n",
        "tr_features = iris_train\n",
        "tr_labels = iris_train_labels"
      ],
      "metadata": {
        "id": "SFsVAVgWSWUK"
      },
      "execution_count": null,
      "outputs": []
    },
    {
      "cell_type": "markdown",
      "source": [
        "**Hyperparameter Tuning of XGBoost**"
      ],
      "metadata": {
        "id": "eDeSShJtc98A"
      }
    },
    {
      "cell_type": "code",
      "source": [
        "def print_results(results):\n",
        "    print('BEST PARAMS: {}\\n'.format(results.best_params_))\n",
        "\n",
        "    means = results.cv_results_['mean_test_score']\n",
        "    stds = results.cv_results_['std_test_score']\n",
        "    for mean, std, params in zip(means, stds, results.cv_results_['params']):\n",
        "        print('{} (+/-{}) for {}'.format(round(mean, 3), round(std * 2, 3), params))"
      ],
      "metadata": {
        "id": "F4UleuwoSWOE"
      },
      "execution_count": null,
      "outputs": []
    },
    {
      "cell_type": "markdown",
      "source": [
        "###Evaluate Result on Validation set\n",
        "\n",
        "Here, we would fit the best few models on the full training set and then evaluate the model on the validation set"
      ],
      "metadata": {
        "id": "aZe3zcNmfZMW"
      }
    },
    {
      "cell_type": "code",
      "source": [
        "import pandas as pd\n",
        "from xgboost import XGBClassifier\n",
        "from sklearn.metrics import accuracy_score, precision_score, recall_score\n",
        "\n",
        "tr_features = iris_train\n",
        "tr_labels = iris_train_labels\n",
        "\n",
        "val_features = iris_val\n",
        "val_labels = iris_val_labels\n",
        "\n",
        "te_features = iris_test\n",
        "te_labels = iris_test_labels"
      ],
      "metadata": {
        "id": "cx9R_emwfsPQ"
      },
      "execution_count": null,
      "outputs": []
    },
    {
      "cell_type": "markdown",
      "source": [
        "**Fit best models on full training set**"
      ],
      "metadata": {
        "id": "ieOu6_c8i59Q"
      }
    },
    {
      "cell_type": "code",
      "source": [
        "XGBoost1 = XGBClassifier(n_estimators=5, max_depth=2)\n",
        "XGBoost1.fit(tr_features, tr_labels.values.ravel())\n",
        "\n",
        "XGBoost2 = XGBClassifier(n_estimators=100, max_depth=10)\n",
        "XGBoost2.fit(tr_features, tr_labels.values.ravel())\n",
        "\n",
        "XGBoost3 = XGBClassifier(n_estimators=50, max_depth=20)\n",
        "XGBoost3.fit(tr_features, tr_labels.values.ravel())"
      ],
      "metadata": {
        "colab": {
          "base_uri": "https://localhost:8080/"
        },
        "id": "xjIYfH8Ci-Tx",
        "outputId": "7ddf6773-e2ee-4f6e-b197-1e6418540aaa"
      },
      "execution_count": null,
      "outputs": [
        {
          "output_type": "execute_result",
          "data": {
            "text/plain": [
              "XGBClassifier(max_depth=20, n_estimators=50, objective='multi:softprob')"
            ]
          },
          "metadata": {},
          "execution_count": 269
        }
      ]
    },
    {
      "cell_type": "code",
      "source": [
        "gb = GradientBoostingClassifier()\n",
        "parameters = {\n",
        "    'n_estimators': [5, 50, 250, 500],\n",
        "    'max_depth': [1, 3, 5, 7, 9],\n",
        "    'learning_rate': [0.01, 0.1, 1, 10, 100]\n",
        "}\n",
        "\n",
        "cv = GridSearchCV(gb, parameters, cv=5)\n",
        "cv.fit(tr_features, tr_labels.values.ravel())\n",
        "\n",
        "print_results(cv)"
      ],
      "metadata": {
        "colab": {
          "base_uri": "https://localhost:8080/"
        },
        "id": "kxYnytlOmFpq",
        "outputId": "6e8c855b-ed2a-47de-e462-907c55abd836"
      },
      "execution_count": null,
      "outputs": [
        {
          "output_type": "stream",
          "name": "stdout",
          "text": [
            "BEST PARAMS: {'learning_rate': 0.01, 'max_depth': 1, 'n_estimators': 250}\n",
            "\n",
            "0.6 (+/-0.452) for {'learning_rate': 0.01, 'max_depth': 1, 'n_estimators': 5}\n",
            "0.9 (+/-0.191) for {'learning_rate': 0.01, 'max_depth': 1, 'n_estimators': 50}\n",
            "0.933 (+/-0.215) for {'learning_rate': 0.01, 'max_depth': 1, 'n_estimators': 250}\n",
            "0.922 (+/-0.206) for {'learning_rate': 0.01, 'max_depth': 1, 'n_estimators': 500}\n",
            "0.711 (+/-0.247) for {'learning_rate': 0.01, 'max_depth': 3, 'n_estimators': 5}\n",
            "0.889 (+/-0.172) for {'learning_rate': 0.01, 'max_depth': 3, 'n_estimators': 50}\n",
            "0.889 (+/-0.172) for {'learning_rate': 0.01, 'max_depth': 3, 'n_estimators': 250}\n",
            "0.9 (+/-0.191) for {'learning_rate': 0.01, 'max_depth': 3, 'n_estimators': 500}\n",
            "0.722 (+/-0.233) for {'learning_rate': 0.01, 'max_depth': 5, 'n_estimators': 5}\n",
            "0.911 (+/-0.194) for {'learning_rate': 0.01, 'max_depth': 5, 'n_estimators': 50}\n",
            "0.911 (+/-0.194) for {'learning_rate': 0.01, 'max_depth': 5, 'n_estimators': 250}\n",
            "0.911 (+/-0.194) for {'learning_rate': 0.01, 'max_depth': 5, 'n_estimators': 500}\n",
            "0.733 (+/-0.276) for {'learning_rate': 0.01, 'max_depth': 7, 'n_estimators': 5}\n",
            "0.922 (+/-0.206) for {'learning_rate': 0.01, 'max_depth': 7, 'n_estimators': 50}\n",
            "0.922 (+/-0.206) for {'learning_rate': 0.01, 'max_depth': 7, 'n_estimators': 250}\n",
            "0.922 (+/-0.206) for {'learning_rate': 0.01, 'max_depth': 7, 'n_estimators': 500}\n",
            "0.722 (+/-0.29) for {'learning_rate': 0.01, 'max_depth': 9, 'n_estimators': 5}\n",
            "0.922 (+/-0.206) for {'learning_rate': 0.01, 'max_depth': 9, 'n_estimators': 50}\n",
            "0.922 (+/-0.206) for {'learning_rate': 0.01, 'max_depth': 9, 'n_estimators': 250}\n",
            "0.922 (+/-0.206) for {'learning_rate': 0.01, 'max_depth': 9, 'n_estimators': 500}\n",
            "0.9 (+/-0.191) for {'learning_rate': 0.1, 'max_depth': 1, 'n_estimators': 5}\n",
            "0.922 (+/-0.206) for {'learning_rate': 0.1, 'max_depth': 1, 'n_estimators': 50}\n",
            "0.911 (+/-0.194) for {'learning_rate': 0.1, 'max_depth': 1, 'n_estimators': 250}\n",
            "0.9 (+/-0.191) for {'learning_rate': 0.1, 'max_depth': 1, 'n_estimators': 500}\n",
            "0.889 (+/-0.172) for {'learning_rate': 0.1, 'max_depth': 3, 'n_estimators': 5}\n",
            "0.9 (+/-0.191) for {'learning_rate': 0.1, 'max_depth': 3, 'n_estimators': 50}\n",
            "0.911 (+/-0.206) for {'learning_rate': 0.1, 'max_depth': 3, 'n_estimators': 250}\n",
            "0.911 (+/-0.206) for {'learning_rate': 0.1, 'max_depth': 3, 'n_estimators': 500}\n",
            "0.9 (+/-0.178) for {'learning_rate': 0.1, 'max_depth': 5, 'n_estimators': 5}\n",
            "0.911 (+/-0.194) for {'learning_rate': 0.1, 'max_depth': 5, 'n_estimators': 50}\n",
            "0.9 (+/-0.178) for {'learning_rate': 0.1, 'max_depth': 5, 'n_estimators': 250}\n",
            "0.911 (+/-0.194) for {'learning_rate': 0.1, 'max_depth': 5, 'n_estimators': 500}\n",
            "0.922 (+/-0.206) for {'learning_rate': 0.1, 'max_depth': 7, 'n_estimators': 5}\n",
            "0.922 (+/-0.206) for {'learning_rate': 0.1, 'max_depth': 7, 'n_estimators': 50}\n",
            "0.911 (+/-0.194) for {'learning_rate': 0.1, 'max_depth': 7, 'n_estimators': 250}\n",
            "0.911 (+/-0.194) for {'learning_rate': 0.1, 'max_depth': 7, 'n_estimators': 500}\n",
            "0.922 (+/-0.206) for {'learning_rate': 0.1, 'max_depth': 9, 'n_estimators': 5}\n",
            "0.922 (+/-0.206) for {'learning_rate': 0.1, 'max_depth': 9, 'n_estimators': 50}\n",
            "0.911 (+/-0.194) for {'learning_rate': 0.1, 'max_depth': 9, 'n_estimators': 250}\n",
            "0.911 (+/-0.194) for {'learning_rate': 0.1, 'max_depth': 9, 'n_estimators': 500}\n",
            "0.9 (+/-0.178) for {'learning_rate': 1, 'max_depth': 1, 'n_estimators': 5}\n",
            "0.9 (+/-0.178) for {'learning_rate': 1, 'max_depth': 1, 'n_estimators': 50}\n",
            "0.889 (+/-0.172) for {'learning_rate': 1, 'max_depth': 1, 'n_estimators': 250}\n",
            "0.889 (+/-0.172) for {'learning_rate': 1, 'max_depth': 1, 'n_estimators': 500}\n",
            "0.911 (+/-0.206) for {'learning_rate': 1, 'max_depth': 3, 'n_estimators': 5}\n",
            "0.9 (+/-0.191) for {'learning_rate': 1, 'max_depth': 3, 'n_estimators': 50}\n",
            "0.9 (+/-0.191) for {'learning_rate': 1, 'max_depth': 3, 'n_estimators': 250}\n",
            "0.9 (+/-0.191) for {'learning_rate': 1, 'max_depth': 3, 'n_estimators': 500}\n",
            "0.911 (+/-0.194) for {'learning_rate': 1, 'max_depth': 5, 'n_estimators': 5}\n",
            "0.911 (+/-0.194) for {'learning_rate': 1, 'max_depth': 5, 'n_estimators': 50}\n",
            "0.911 (+/-0.194) for {'learning_rate': 1, 'max_depth': 5, 'n_estimators': 250}\n",
            "0.9 (+/-0.178) for {'learning_rate': 1, 'max_depth': 5, 'n_estimators': 500}\n",
            "0.922 (+/-0.206) for {'learning_rate': 1, 'max_depth': 7, 'n_estimators': 5}\n",
            "0.922 (+/-0.206) for {'learning_rate': 1, 'max_depth': 7, 'n_estimators': 50}\n",
            "0.922 (+/-0.206) for {'learning_rate': 1, 'max_depth': 7, 'n_estimators': 250}\n",
            "0.922 (+/-0.206) for {'learning_rate': 1, 'max_depth': 7, 'n_estimators': 500}\n",
            "0.922 (+/-0.206) for {'learning_rate': 1, 'max_depth': 9, 'n_estimators': 5}\n",
            "0.922 (+/-0.206) for {'learning_rate': 1, 'max_depth': 9, 'n_estimators': 50}\n",
            "0.922 (+/-0.206) for {'learning_rate': 1, 'max_depth': 9, 'n_estimators': 250}\n",
            "0.922 (+/-0.206) for {'learning_rate': 1, 'max_depth': 9, 'n_estimators': 500}\n",
            "0.411 (+/-0.5) for {'learning_rate': 10, 'max_depth': 1, 'n_estimators': 5}\n",
            "0.411 (+/-0.5) for {'learning_rate': 10, 'max_depth': 1, 'n_estimators': 50}\n",
            "0.411 (+/-0.5) for {'learning_rate': 10, 'max_depth': 1, 'n_estimators': 250}\n",
            "0.411 (+/-0.5) for {'learning_rate': 10, 'max_depth': 1, 'n_estimators': 500}\n",
            "0.844 (+/-0.13) for {'learning_rate': 10, 'max_depth': 3, 'n_estimators': 5}\n",
            "0.9 (+/-0.191) for {'learning_rate': 10, 'max_depth': 3, 'n_estimators': 50}\n",
            "0.9 (+/-0.191) for {'learning_rate': 10, 'max_depth': 3, 'n_estimators': 250}\n",
            "0.889 (+/-0.199) for {'learning_rate': 10, 'max_depth': 3, 'n_estimators': 500}\n",
            "0.889 (+/-0.199) for {'learning_rate': 10, 'max_depth': 5, 'n_estimators': 5}\n",
            "0.9 (+/-0.191) for {'learning_rate': 10, 'max_depth': 5, 'n_estimators': 50}\n",
            "0.9 (+/-0.178) for {'learning_rate': 10, 'max_depth': 5, 'n_estimators': 250}\n",
            "0.911 (+/-0.194) for {'learning_rate': 10, 'max_depth': 5, 'n_estimators': 500}\n",
            "0.9 (+/-0.178) for {'learning_rate': 10, 'max_depth': 7, 'n_estimators': 5}\n",
            "0.922 (+/-0.206) for {'learning_rate': 10, 'max_depth': 7, 'n_estimators': 50}\n",
            "0.911 (+/-0.194) for {'learning_rate': 10, 'max_depth': 7, 'n_estimators': 250}\n",
            "0.911 (+/-0.194) for {'learning_rate': 10, 'max_depth': 7, 'n_estimators': 500}\n",
            "0.889 (+/-0.199) for {'learning_rate': 10, 'max_depth': 9, 'n_estimators': 5}\n",
            "0.911 (+/-0.206) for {'learning_rate': 10, 'max_depth': 9, 'n_estimators': 50}\n",
            "0.911 (+/-0.194) for {'learning_rate': 10, 'max_depth': 9, 'n_estimators': 250}\n",
            "0.911 (+/-0.194) for {'learning_rate': 10, 'max_depth': 9, 'n_estimators': 500}\n",
            "0.422 (+/-0.49) for {'learning_rate': 100, 'max_depth': 1, 'n_estimators': 5}\n",
            "0.422 (+/-0.49) for {'learning_rate': 100, 'max_depth': 1, 'n_estimators': 50}\n",
            "0.422 (+/-0.49) for {'learning_rate': 100, 'max_depth': 1, 'n_estimators': 250}\n",
            "0.422 (+/-0.49) for {'learning_rate': 100, 'max_depth': 1, 'n_estimators': 500}\n",
            "0.9 (+/-0.191) for {'learning_rate': 100, 'max_depth': 3, 'n_estimators': 5}\n",
            "0.9 (+/-0.191) for {'learning_rate': 100, 'max_depth': 3, 'n_estimators': 50}\n",
            "0.833 (+/-0.186) for {'learning_rate': 100, 'max_depth': 3, 'n_estimators': 250}\n",
            "0.878 (+/-0.163) for {'learning_rate': 100, 'max_depth': 3, 'n_estimators': 500}\n",
            "0.867 (+/-0.166) for {'learning_rate': 100, 'max_depth': 5, 'n_estimators': 5}\n",
            "0.867 (+/-0.194) for {'learning_rate': 100, 'max_depth': 5, 'n_estimators': 50}\n",
            "0.889 (+/-0.172) for {'learning_rate': 100, 'max_depth': 5, 'n_estimators': 250}\n",
            "0.889 (+/-0.172) for {'learning_rate': 100, 'max_depth': 5, 'n_estimators': 500}\n",
            "0.867 (+/-0.166) for {'learning_rate': 100, 'max_depth': 7, 'n_estimators': 5}\n",
            "0.878 (+/-0.163) for {'learning_rate': 100, 'max_depth': 7, 'n_estimators': 50}\n",
            "0.878 (+/-0.163) for {'learning_rate': 100, 'max_depth': 7, 'n_estimators': 250}\n",
            "0.856 (+/-0.181) for {'learning_rate': 100, 'max_depth': 7, 'n_estimators': 500}\n",
            "0.867 (+/-0.166) for {'learning_rate': 100, 'max_depth': 9, 'n_estimators': 5}\n",
            "0.867 (+/-0.166) for {'learning_rate': 100, 'max_depth': 9, 'n_estimators': 50}\n",
            "0.867 (+/-0.194) for {'learning_rate': 100, 'max_depth': 9, 'n_estimators': 250}\n",
            "0.878 (+/-0.163) for {'learning_rate': 100, 'max_depth': 9, 'n_estimators': 500}\n"
          ]
        }
      ]
    },
    {
      "cell_type": "code",
      "source": [
        "joblib.dump(cv.best_estimator_, '../../../GB_model.pkl')"
      ],
      "metadata": {
        "colab": {
          "base_uri": "https://localhost:8080/"
        },
        "id": "ZPEU3F_amHnH",
        "outputId": "6ad6beee-ccf9-41e8-f798-57dc56d3295b"
      },
      "execution_count": null,
      "outputs": [
        {
          "output_type": "execute_result",
          "data": {
            "text/plain": [
              "['../../../GB_model.pkl']"
            ]
          },
          "metadata": {},
          "execution_count": 274
        }
      ]
    },
    {
      "cell_type": "code",
      "source": [
        "models = {}\n",
        "\n",
        "for md in ['cv']:\n",
        "  models[md] = joblib.load('../../../SVM_model.pkl'.format(md))"
      ],
      "metadata": {
        "id": "AaK7XSYSmJ_2"
      },
      "execution_count": null,
      "outputs": []
    },
    {
      "cell_type": "code",
      "source": [
        "from time import time\n",
        "def evaluate_model(name, model, features, labels):\n",
        "    start = time()\n",
        "    pred = model.predict(features)\n",
        "    end = time()\n",
        "    accuracy = round(accuracy_score(labels, pred), 3)\n",
        "    precision = round(precision_score(labels, pred, average='weighted'), 3)\n",
        "    recall = round(recall_score(labels, pred, average='weighted'), 3)\n",
        "    print('{} -- \\tAccuracy: {} / Precision: {} / Recall: {} / Latency: {}ms'.format(name,\n",
        "                                                                                     accuracy,\n",
        "                                                                                     precision,\n",
        "                                                                                     recall,\n",
        "                                                                                     round((end - start)*1000, 1)))"
      ],
      "metadata": {
        "id": "5SMdh-zxoF_D"
      },
      "execution_count": null,
      "outputs": []
    },
    {
      "cell_type": "code",
      "source": [
        "evaluate_model('gb Model test', models['cv'], iris_test, iris_test_labels)\n",
        "evaluate_model('gb Model test', models['cv'], iris_test, iris_test_labels)"
      ],
      "metadata": {
        "colab": {
          "base_uri": "https://localhost:8080/"
        },
        "id": "qs2ZFeyJodIk",
        "outputId": "9f7ebbed-dfd3-4331-d97f-327628692bf7"
      },
      "execution_count": null,
      "outputs": [
        {
          "output_type": "stream",
          "name": "stdout",
          "text": [
            "gb Model test -- \tAccuracy: 1.0 / Precision: 1.0 / Recall: 1.0 / Latency: 3.1ms\n",
            "gb Model test -- \tAccuracy: 1.0 / Precision: 1.0 / Recall: 1.0 / Latency: 2.3ms\n"
          ]
        }
      ]
    },
    {
      "cell_type": "markdown",
      "source": [
        "#Comparing the Models for the (60:20:20) split\n",
        "* Random Forest\n",
        "* SVM\n",
        "* Gradient Boosting"
      ],
      "metadata": {
        "id": "_3M83bDdg5TQ"
      }
    },
    {
      "cell_type": "code",
      "source": [
        "import joblib\n",
        "import pandas as pd\n",
        "from sklearn.metrics import accuracy_score, precision_score, recall_score\n",
        "from time import time\n",
        "\n",
        "val_features = iris_val\n",
        "val_labels = iris_val_labels\n",
        "\n",
        "tr_features = iris_train\n",
        "tr_labels = iris_train_labels\n",
        "\n",
        "models = {}\n",
        "\n",
        "for mdl in ['SVM', 'RF', 'GB']:\n",
        "    models[mdl] = joblib.load('../../../{}_model.pkl'.format(mdl))"
      ],
      "metadata": {
        "id": "x5xBwrRn6v2G"
      },
      "execution_count": null,
      "outputs": []
    },
    {
      "cell_type": "code",
      "source": [
        "models"
      ],
      "metadata": {
        "colab": {
          "base_uri": "https://localhost:8080/"
        },
        "id": "IRkAXE5qhr8K",
        "outputId": "33a751c4-a38a-4f0e-eb05-eaf3ffd3104a"
      },
      "execution_count": null,
      "outputs": [
        {
          "output_type": "execute_result",
          "data": {
            "text/plain": [
              "{'SVM': SVC(C=1, kernel='linear'),\n",
              " 'RF': RandomForestClassifier(max_depth=4, n_estimators=50),\n",
              " 'GB': GradientBoostingClassifier(learning_rate=0.01, max_depth=1, n_estimators=250)}"
            ]
          },
          "metadata": {},
          "execution_count": 283
        }
      ]
    },
    {
      "cell_type": "code",
      "source": [
        "from sklearn.metrics import accuracy_score, confusion_matrix, roc_auc_score, ConfusionMatrixDisplay, precision_score, recall_score, f1_score, classification_report, roc_curve, plot_roc_curve, auc, precision_recall_curve, plot_precision_recall_curve, average_precision_score\n",
        "from sklearn.model_selection import cross_val_score\n",
        "\n",
        "models = []\n",
        "models.append(['SVM', SVC(random_state=0)])\n",
        "models.append(['XG Boost', GradientBoostingClassifier()])\n",
        "models.append(['Random Forest', RandomForestClassifier()])\n",
        "\n",
        "\n",
        "\n",
        "lst_1= []\n",
        "\n",
        "for m in range(len(models)):\n",
        "    lst_2= []\n",
        "    model = models[m][1]\n",
        "    model.fit(X_train, y_train)\n",
        "    y_pred = model.predict(X_test)\n",
        "    cm = confusion_matrix(y_test, y_pred)  #Confusion Matrix\n",
        "    accuracies = cross_val_score(estimator = model, X = X_train, y = y_train, cv =5)   #K-Fold Validation\n",
        "    print(cm)\n",
        "    print('Accuracy Score: ',accuracy_score(y_test, y_pred))"
      ],
      "metadata": {
        "colab": {
          "base_uri": "https://localhost:8080/"
        },
        "id": "Wf7LWtHhV_MO",
        "outputId": "41c715a8-675f-4fe8-e08c-8f10902cfd87"
      },
      "execution_count": null,
      "outputs": [
        {
          "output_type": "stream",
          "name": "stdout",
          "text": [
            "[[12  0  0]\n",
            " [ 0  6  0]\n",
            " [ 0  0 12]]\n",
            "Accuracy Score:  1.0\n",
            "[[12  0  0]\n",
            " [ 0  6  0]\n",
            " [ 0  0 12]]\n",
            "Accuracy Score:  1.0\n",
            "[[12  0  0]\n",
            " [ 0  6  0]\n",
            " [ 0  0 12]]\n",
            "Accuracy Score:  1.0\n"
          ]
        }
      ]
    },
    {
      "cell_type": "markdown",
      "source": [
        "**EXPERIMENTAL RESULTS**\n",
        "\n",
        "From the Table above, it appears that all the accuracy for the prediction are overfitted despited applying scaling the dataset and applying hyper parameterr tuning.  The predicted accuracy for logistic regression and XGBoost gives the highest result with accuracy after applying validation test of 90.15% higher than RF and Gradient Boosting both with tuning the parameters thereby being the\n",
        "best model. Cross Validation used to evaluate generalization performance of algorithms on this dataset\n",
        "was a 5-fold cross validation (cv=5). 95% of the data (nine-fifth) was used to fit the model in each\n",
        "iteration which summarized and generated an average/mean cross validation score resulting in a more\n",
        "accurate model.\n",
        "\n",
        "**Confusion Matrix**\n",
        "\n",
        "The confusion matrix indicates that the model was able to predict a higher true positive value and no true negative value.\n"
      ],
      "metadata": {
        "id": "pZrroZ2e7gd2"
      }
    },
    {
      "cell_type": "markdown",
      "source": [
        "#Data Spliting 80:10:10"
      ],
      "metadata": {
        "id": "_U9IVTwrZjlM"
      }
    },
    {
      "cell_type": "code",
      "source": [
        "features = iris.drop('variety', axis=1)\n",
        "labels = iris['variety']\n",
        "\n",
        "\n",
        "X_train, X_test, y_train, y_test = train_test_split(features, labels, test_size=0.2, random_state=42)\n",
        "X_test, X_val, y_test, y_val = train_test_split(X_test, y_test, test_size=0.5, random_state=42)"
      ],
      "metadata": {
        "id": "dUJ1m5t2ZjOD"
      },
      "execution_count": null,
      "outputs": []
    },
    {
      "cell_type": "code",
      "source": [
        "for dataset in [y_train, y_val, y_test]:\n",
        "    print(round(len(dataset) / len(labels), 2))"
      ],
      "metadata": {
        "colab": {
          "base_uri": "https://localhost:8080/"
        },
        "id": "af-93jS_1GCq",
        "outputId": "fe8442b1-ad97-4bdc-9d67-5d1316cb6076"
      },
      "execution_count": null,
      "outputs": [
        {
          "output_type": "stream",
          "name": "stdout",
          "text": [
            "0.8\n",
            "0.1\n",
            "0.1\n"
          ]
        }
      ]
    },
    {
      "cell_type": "markdown",
      "source": [
        "The code below verifys that:\n",
        "the total length of labels which represents our full dataset is= 150\n",
        "\n",
        "\n",
        "*   Length of y_train= 80% of the iris dataset = 120\n",
        "*   Length of y_val =  10% of the iris dataset = 15\n",
        "*   Length of y_test = 10% of the iris dataset = 15"
      ],
      "metadata": {
        "id": "_H9s8wM327db"
      }
    },
    {
      "cell_type": "code",
      "source": [
        "print(len(X),len(y_train),len(y_val),len(y_test))"
      ],
      "metadata": {
        "colab": {
          "base_uri": "https://localhost:8080/"
        },
        "id": "dkKhUdh73LvM",
        "outputId": "65070c39-b228-4525-dac6-813d70692d6f"
      },
      "execution_count": null,
      "outputs": [
        {
          "output_type": "stream",
          "name": "stdout",
          "text": [
            "150 120 15 15\n"
          ]
        }
      ]
    },
    {
      "cell_type": "markdown",
      "source": [
        "#**Model Creation**"
      ],
      "metadata": {
        "id": "IyWjg1Q8kP94"
      }
    },
    {
      "cell_type": "markdown",
      "source": [
        "#Random Forest Classsifier\n",
        "\n",
        "**Fit and evaluate a basic model using 5-fold Cross-Validation**"
      ],
      "metadata": {
        "id": "xn4uYVG73cyd"
      }
    },
    {
      "cell_type": "code",
      "source": [
        "import joblib\n",
        "import pandas as pd\n",
        "from sklearn.ensemble import RandomForestClassifier\n",
        "from sklearn.model_selection import GridSearchCV\n",
        "import warnings\n",
        "warnings.filterwarnings('ignore', category=FutureWarning)\n",
        "warnings.filterwarnings('ignore', category=DeprecationWarning)\n",
        "\n",
        "tr_features = iris_train\n",
        "tr_labels = iris_train_labels"
      ],
      "metadata": {
        "id": "jDeS5jg63Qa-"
      },
      "execution_count": null,
      "outputs": []
    },
    {
      "cell_type": "markdown",
      "source": [
        "#Hyperparameter Tuning"
      ],
      "metadata": {
        "id": "zFvfxzcapavV"
      }
    },
    {
      "cell_type": "code",
      "source": [
        "def print_results(results):\n",
        "    print('BEST PARAMS: {}\\n'.format(results.best_params_))\n",
        "\n",
        "    means = results.cv_results_['mean_test_score']\n",
        "    stds = results.cv_results_['std_test_score']\n",
        "    for mean, std, params in zip(means, stds, results.cv_results_['params']):\n",
        "        print('{} (+/-{}) for {}'.format(round(mean, 3), round(std * 2, 3), params))"
      ],
      "metadata": {
        "id": "SeUMwv0gpdpo"
      },
      "execution_count": null,
      "outputs": []
    },
    {
      "cell_type": "code",
      "source": [
        "rf1 = RandomForestClassifier()\n",
        "parameters = {\n",
        "    'n_estimators': [5, 50, 250],\n",
        "    'max_depth': [2, 4, 8, 16, 32, None]\n",
        "}\n",
        "\n",
        "cv = GridSearchCV(rf, parameters, cv=5)\n",
        "cv.fit(tr_features, tr_labels.values.ravel())\n",
        "\n",
        "print_results(cv)"
      ],
      "metadata": {
        "colab": {
          "base_uri": "https://localhost:8080/"
        },
        "id": "EP_cjro8phPw",
        "outputId": "08bdc8f8-0689-4246-ed73-05cef52ba0be"
      },
      "execution_count": null,
      "outputs": [
        {
          "output_type": "stream",
          "name": "stdout",
          "text": [
            "BEST PARAMS: {'max_depth': 2, 'n_estimators': 5}\n",
            "\n",
            "0.944 (+/-0.172) for {'max_depth': 2, 'n_estimators': 5}\n",
            "0.933 (+/-0.215) for {'max_depth': 2, 'n_estimators': 50}\n",
            "0.922 (+/-0.206) for {'max_depth': 2, 'n_estimators': 250}\n",
            "0.933 (+/-0.163) for {'max_depth': 4, 'n_estimators': 5}\n",
            "0.922 (+/-0.206) for {'max_depth': 4, 'n_estimators': 50}\n",
            "0.922 (+/-0.206) for {'max_depth': 4, 'n_estimators': 250}\n",
            "0.911 (+/-0.151) for {'max_depth': 8, 'n_estimators': 5}\n",
            "0.933 (+/-0.215) for {'max_depth': 8, 'n_estimators': 50}\n",
            "0.933 (+/-0.215) for {'max_depth': 8, 'n_estimators': 250}\n",
            "0.933 (+/-0.163) for {'max_depth': 16, 'n_estimators': 5}\n",
            "0.911 (+/-0.194) for {'max_depth': 16, 'n_estimators': 50}\n",
            "0.933 (+/-0.215) for {'max_depth': 16, 'n_estimators': 250}\n",
            "0.922 (+/-0.206) for {'max_depth': 32, 'n_estimators': 5}\n",
            "0.922 (+/-0.206) for {'max_depth': 32, 'n_estimators': 50}\n",
            "0.922 (+/-0.206) for {'max_depth': 32, 'n_estimators': 250}\n",
            "0.933 (+/-0.13) for {'max_depth': None, 'n_estimators': 5}\n",
            "0.922 (+/-0.206) for {'max_depth': None, 'n_estimators': 50}\n",
            "0.922 (+/-0.206) for {'max_depth': None, 'n_estimators': 250}\n"
          ]
        }
      ]
    },
    {
      "cell_type": "markdown",
      "source": [
        "*Writing out pickled model*"
      ],
      "metadata": {
        "id": "OEEE7rfypx2j"
      }
    },
    {
      "cell_type": "code",
      "source": [
        "joblib.dump(cv.best_estimator_, '../../../RF_model.pkl')"
      ],
      "metadata": {
        "id": "ocFDmv2P3wa9",
        "colab": {
          "base_uri": "https://localhost:8080/"
        },
        "outputId": "c2113667-8fde-4bf6-aded-9b5112da307e"
      },
      "execution_count": null,
      "outputs": [
        {
          "output_type": "execute_result",
          "data": {
            "text/plain": [
              "['../../../RF_model.pkl']"
            ]
          },
          "metadata": {},
          "execution_count": 295
        }
      ]
    },
    {
      "cell_type": "code",
      "source": [
        "models = {}\n",
        "\n",
        "for md in ['cv']:\n",
        "  models[md] = joblib.load('../../../RF_model.pkl'.format(md))\n",
        "\n",
        "\n",
        "from time import time\n",
        "def evaluate_model(name, model, features, labels):\n",
        "    start = time()\n",
        "    pred = model.predict(features)\n",
        "    end = time()\n",
        "    accuracy = round(accuracy_score(labels, pred), 3)\n",
        "    precision = round(precision_score(labels, pred, average='weighted'), 3)\n",
        "    recall = round(recall_score(labels, pred, average='weighted'), 3)\n",
        "    print('{} -- \\tAccuracy: {} / Precision: {} / Recall: {} / Latency: {}ms'.format(name,\n",
        "                                                                                     accuracy,\n",
        "                                                                                     precision,\n",
        "                                                                                     recall,\n",
        "                                                                                     round((end - start)*1000, 1)))\n",
        "\n",
        "evaluate_model('Random Forest Model test', models['cv'], iris_test, iris_test_labels)"
      ],
      "metadata": {
        "colab": {
          "base_uri": "https://localhost:8080/"
        },
        "id": "nd5YHfqSruwe",
        "outputId": "fecc4ce2-f556-4ddf-c78d-76351a408989"
      },
      "execution_count": null,
      "outputs": [
        {
          "output_type": "stream",
          "name": "stdout",
          "text": [
            "Random Forest Model test -- \tAccuracy: 1.0 / Precision: 1.0 / Recall: 1.0 / Latency: 3.9ms\n"
          ]
        }
      ]
    },
    {
      "cell_type": "code",
      "source": [
        "scores"
      ],
      "metadata": {
        "colab": {
          "base_uri": "https://localhost:8080/"
        },
        "id": "xE1Ouqac3xrm",
        "outputId": "e315344f-a6b6-473a-bd4b-dda01762f4be"
      },
      "execution_count": null,
      "outputs": [
        {
          "output_type": "execute_result",
          "data": {
            "text/plain": [
              "array([1.        , 0.72222222, 1.        , 0.94444444, 0.94444444])"
            ]
          },
          "metadata": {},
          "execution_count": 296
        }
      ]
    },
    {
      "cell_type": "markdown",
      "source": [
        "**Gridsearch to find optimal hyperparameter**"
      ],
      "metadata": {
        "id": "m-smUCS06frM"
      }
    },
    {
      "cell_type": "code",
      "source": [
        "import pandas as pd\n",
        "from sklearn.ensemble import RandomForestClassifier\n",
        "from sklearn.model_selection import GridSearchCV\n",
        "\n",
        "tr_features = iris_train\n",
        "tr_labels = iris_train_labels"
      ],
      "metadata": {
        "id": "s0t_O6Ph6e3S"
      },
      "execution_count": null,
      "outputs": []
    },
    {
      "cell_type": "markdown",
      "source": [
        "**Hyperparameter tuning for Random Forest**"
      ],
      "metadata": {
        "id": "2csW2r6g7avK"
      }
    },
    {
      "cell_type": "code",
      "source": [
        "def print_results(results):\n",
        "    print('BEST PARAMS: {}\\n'.format(results.best_params_))\n",
        "\n",
        "    means = results.cv_results_['mean_test_score']\n",
        "    stds = results.cv_results_['std_test_score']\n",
        "    for mean, std, params in zip(means, stds, results.cv_results_['params']):\n",
        "        print('{} (+/-{}) for {}'.format(round(mean, 3), round(std * 2, 3), params))"
      ],
      "metadata": {
        "id": "XyTybneL7Zsr"
      },
      "execution_count": null,
      "outputs": []
    },
    {
      "cell_type": "code",
      "source": [
        "rf1 = RandomForestClassifier()\n",
        "parameters = {\n",
        "    'n_estimators': [5, 50, 100],\n",
        "    'max_depth': [2, 10, 20, None]\n",
        "}\n",
        "\n",
        "cv = GridSearchCV(rf, parameters, cv=5)\n",
        "cv.fit(tr_features, tr_labels.values.ravel())\n",
        "\n",
        "print_results(cv)"
      ],
      "metadata": {
        "colab": {
          "base_uri": "https://localhost:8080/"
        },
        "id": "gN_Q0R1n70o6",
        "outputId": "7e6da6ae-316e-47b2-c6ec-b17beeb781b0"
      },
      "execution_count": null,
      "outputs": [
        {
          "output_type": "stream",
          "name": "stdout",
          "text": [
            "BEST PARAMS: {'max_depth': 20, 'n_estimators': 50}\n",
            "\n",
            "0.922 (+/-0.206) for {'max_depth': 2, 'n_estimators': 5}\n",
            "0.922 (+/-0.206) for {'max_depth': 2, 'n_estimators': 50}\n",
            "0.922 (+/-0.206) for {'max_depth': 2, 'n_estimators': 100}\n",
            "0.922 (+/-0.206) for {'max_depth': 10, 'n_estimators': 5}\n",
            "0.911 (+/-0.194) for {'max_depth': 10, 'n_estimators': 50}\n",
            "0.911 (+/-0.194) for {'max_depth': 10, 'n_estimators': 100}\n",
            "0.922 (+/-0.218) for {'max_depth': 20, 'n_estimators': 5}\n",
            "0.933 (+/-0.215) for {'max_depth': 20, 'n_estimators': 50}\n",
            "0.933 (+/-0.215) for {'max_depth': 20, 'n_estimators': 100}\n",
            "0.911 (+/-0.194) for {'max_depth': None, 'n_estimators': 5}\n",
            "0.922 (+/-0.206) for {'max_depth': None, 'n_estimators': 50}\n",
            "0.922 (+/-0.206) for {'max_depth': None, 'n_estimators': 100}\n"
          ]
        }
      ]
    },
    {
      "cell_type": "code",
      "source": [
        "models = {}\n",
        "\n",
        "for md in ['cv']:\n",
        "  models[md] = joblib.load('../../../RF_model.pkl'.format(md))\n",
        "\n",
        "\n",
        "from time import time\n",
        "def evaluate_model(name, model, features, labels):\n",
        "    start = time()\n",
        "    pred = model.predict(features)\n",
        "    end = time()\n",
        "    accuracy = round(accuracy_score(labels, pred), 3)\n",
        "    precision = round(precision_score(labels, pred, average='weighted'), 3)\n",
        "    recall = round(recall_score(labels, pred, average='weighted'), 3)\n",
        "    print('{} -- \\tAccuracy: {} / Precision: {} / Recall: {} / Latency: {}ms'.format(name,\n",
        "                                                                                     accuracy,\n",
        "                                                                                     precision,\n",
        "                                                                                     recall,\n",
        "                                                                                     round((end - start)*1000, 1)))\n",
        "\n",
        "evaluate_model('Random Forest Model test', models['cv'], iris_test, iris_test_labels)"
      ],
      "metadata": {
        "colab": {
          "base_uri": "https://localhost:8080/"
        },
        "id": "heKh_L14rA58",
        "outputId": "f2f86b21-f73a-429a-86e0-423f4841604c"
      },
      "execution_count": null,
      "outputs": [
        {
          "output_type": "stream",
          "name": "stdout",
          "text": [
            "Random Forest Model test -- \tAccuracy: 1.0 / Precision: 1.0 / Recall: 1.0 / Latency: 3.8ms\n"
          ]
        }
      ]
    },
    {
      "cell_type": "markdown",
      "source": [
        "#XGBoost"
      ],
      "metadata": {
        "id": "CUQIah03O3yo"
      }
    },
    {
      "cell_type": "markdown",
      "source": [
        "**Fit and evaluate a basic model using 5-fold Cross-Validation**"
      ],
      "metadata": {
        "id": "4gBjXLTrQEVe"
      }
    },
    {
      "cell_type": "code",
      "source": [
        "import pandas as pd\n",
        "from xgboost import XGBClassifier\n",
        "from sklearn.model_selection import cross_val_score\n",
        "import warnings\n",
        "\n",
        "tr_features = iris_train\n",
        "tr_labels = iris_train_labels"
      ],
      "metadata": {
        "id": "ajLi2icZO5jL"
      },
      "execution_count": null,
      "outputs": []
    },
    {
      "cell_type": "code",
      "source": [
        "XGBoost = XGBClassifier()\n",
        "\n",
        "scores = cross_val_score(rf, tr_features, tr_labels.values.ravel(), cv=5)"
      ],
      "metadata": {
        "id": "JknMUnC3Qh82"
      },
      "execution_count": null,
      "outputs": []
    },
    {
      "cell_type": "code",
      "source": [
        "scores"
      ],
      "metadata": {
        "colab": {
          "base_uri": "https://localhost:8080/"
        },
        "id": "R7q6HYJxQjQL",
        "outputId": "7012665e-0656-414c-d58a-3a6cfec46ca4"
      },
      "execution_count": null,
      "outputs": [
        {
          "output_type": "execute_result",
          "data": {
            "text/plain": [
              "array([1.        , 0.72222222, 1.        , 0.94444444, 0.94444444])"
            ]
          },
          "metadata": {},
          "execution_count": 198
        }
      ]
    },
    {
      "cell_type": "markdown",
      "source": [
        "**Grid search to find optimal hyperparameters**"
      ],
      "metadata": {
        "id": "XqS3KyTGSlKA"
      }
    },
    {
      "cell_type": "code",
      "source": [
        "import pandas as pd\n",
        "from sklearn.model_selection import GridSearchCV\n",
        "\n",
        "tr_features = iris_train\n",
        "tr_labels = iris_train_labels"
      ],
      "metadata": {
        "id": "IFvXGge5SkcL"
      },
      "execution_count": null,
      "outputs": []
    },
    {
      "cell_type": "markdown",
      "source": [
        "**Hyperparameter Tunning**"
      ],
      "metadata": {
        "id": "Pa3T2VGDU7ye"
      }
    },
    {
      "cell_type": "code",
      "source": [
        "def print_results(results):\n",
        "    print('BEST PARAMS: {}\\n'.format(results.best_params_))\n",
        "\n",
        "    means = results.cv_results_['mean_test_score']\n",
        "    stds = results.cv_results_['std_test_score']\n",
        "    for mean, std, params in zip(means, stds, results.cv_results_['params']):\n",
        "        print('{} (+/-{}) for {}'.format(round(mean, 3), round(std * 2, 3), params))"
      ],
      "metadata": {
        "id": "tQo_Dd_hU7S-"
      },
      "execution_count": null,
      "outputs": []
    },
    {
      "cell_type": "code",
      "source": [
        "XGBoost = XGBClassifier()\n",
        "parameters = {\n",
        "    'n_estimators': [5, 50, 100],\n",
        "    'max_depth': [2, 10, 20, None]\n",
        "}\n",
        "\n",
        "cv = GridSearchCV(rf, parameters, cv=5)\n",
        "cv.fit(tr_features, tr_labels.values.ravel())\n",
        "\n",
        "print_results(cv)"
      ],
      "metadata": {
        "colab": {
          "base_uri": "https://localhost:8080/"
        },
        "id": "aYLikXASWZKB",
        "outputId": "7410275f-d8e9-477e-eb1e-ec12b0a5dc8f"
      },
      "execution_count": null,
      "outputs": [
        {
          "output_type": "stream",
          "name": "stdout",
          "text": [
            "BEST PARAMS: {'max_depth': 10, 'n_estimators': 5}\n",
            "\n",
            "0.856 (+/-0.269) for {'max_depth': 2, 'n_estimators': 5}\n",
            "0.9 (+/-0.191) for {'max_depth': 2, 'n_estimators': 50}\n",
            "0.911 (+/-0.194) for {'max_depth': 2, 'n_estimators': 100}\n",
            "0.933 (+/-0.215) for {'max_depth': 10, 'n_estimators': 5}\n",
            "0.911 (+/-0.194) for {'max_depth': 10, 'n_estimators': 50}\n",
            "0.922 (+/-0.206) for {'max_depth': 10, 'n_estimators': 100}\n",
            "0.9 (+/-0.215) for {'max_depth': 20, 'n_estimators': 5}\n",
            "0.911 (+/-0.194) for {'max_depth': 20, 'n_estimators': 50}\n",
            "0.922 (+/-0.206) for {'max_depth': 20, 'n_estimators': 100}\n",
            "0.9 (+/-0.178) for {'max_depth': None, 'n_estimators': 5}\n",
            "0.911 (+/-0.194) for {'max_depth': None, 'n_estimators': 50}\n",
            "0.922 (+/-0.206) for {'max_depth': None, 'n_estimators': 100}\n"
          ]
        }
      ]
    },
    {
      "cell_type": "markdown",
      "source": [
        "#Evaluate Result on Validation set"
      ],
      "metadata": {
        "id": "cJTh9BVTXyNX"
      }
    },
    {
      "cell_type": "code",
      "source": [
        "import pandas as pd\n",
        "from xgboost import XGBClassifier\n",
        "from sklearn.metrics import accuracy_score, precision_score, recall_score\n",
        "\n",
        "tr_features = iris_train\n",
        "tr_labels = iris_train_labels\n",
        "\n",
        "val_features = iris_val\n",
        "val_labels = iris_val_labels\n",
        "\n",
        "te_features = iris_test\n",
        "te_labels = iris_test_labels"
      ],
      "metadata": {
        "id": "BOG9JMBjXxm7"
      },
      "execution_count": null,
      "outputs": []
    },
    {
      "cell_type": "markdown",
      "source": [
        "**Fit Best Model on full training set**"
      ],
      "metadata": {
        "id": "oG3RmkvWX9N6"
      }
    },
    {
      "cell_type": "code",
      "source": [
        "XGBoost1 = XGBClassifier(n_estimators=100, max_depth=10)\n",
        "XGBoost1.fit(tr_features, tr_labels.values.ravel())\n",
        "\n",
        "XGBoost2 = XGBClassifier(n_estimators=100, max_depth=2)\n",
        "XGBoost2.fit(tr_features, tr_labels.values.ravel())\n",
        "\n",
        "XGBoost3 = XGBClassifier(n_estimators=50, max_depth=2)\n",
        "XGBoost3.fit(tr_features, tr_labels.values.ravel())"
      ],
      "metadata": {
        "colab": {
          "base_uri": "https://localhost:8080/"
        },
        "id": "HIze4nChX7f6",
        "outputId": "c6212ef7-0887-4ef2-9650-bbe489704e26"
      },
      "execution_count": null,
      "outputs": [
        {
          "output_type": "execute_result",
          "data": {
            "text/plain": [
              "XGBClassifier(max_depth=2, n_estimators=50, objective='multi:softprob')"
            ]
          },
          "metadata": {},
          "execution_count": 203
        }
      ]
    },
    {
      "cell_type": "markdown",
      "source": [
        "**Evaluate Models on Validation set**"
      ],
      "metadata": {
        "id": "jw9ia5VmbNc-"
      }
    },
    {
      "cell_type": "code",
      "source": [
        "models = {}\n",
        "\n",
        "for md in ['cv']:\n",
        "  models[md] = joblib.load('../../../GB_model.pkl'.format(md))\n",
        "\n",
        "\n",
        "from time import time\n",
        "def evaluate_model(name, model, features, labels):\n",
        "    start = time()\n",
        "    pred = model.predict(features)\n",
        "    end = time()\n",
        "    accuracy = round(accuracy_score(labels, pred), 3)\n",
        "    precision = round(precision_score(labels, pred, average='weighted'), 3)\n",
        "    recall = round(recall_score(labels, pred, average='weighted'), 3)\n",
        "    print('{} -- \\tAccuracy: {} / Precision: {} / Recall: {} / Latency: {}ms'.format(name,\n",
        "                                                                                     accuracy,\n",
        "                                                                                     precision,\n",
        "                                                                                     recall,\n",
        "                                                                                     round((end - start)*1000, 1)))\n",
        "\n",
        "evaluate_model('XGBoost Model test', models['cv'], iris_test, iris_test_labels)"
      ],
      "metadata": {
        "id": "NH6yVZhwbWZh",
        "colab": {
          "base_uri": "https://localhost:8080/"
        },
        "outputId": "d00b40b2-d7c8-4650-f248-ab5eb3eae22f"
      },
      "execution_count": null,
      "outputs": [
        {
          "output_type": "stream",
          "name": "stdout",
          "text": [
            "XGBoost Model test -- \tAccuracy: 1.0 / Precision: 1.0 / Recall: 1.0 / Latency: 2.4ms\n"
          ]
        }
      ]
    },
    {
      "cell_type": "markdown",
      "source": [
        "#**SVM**"
      ],
      "metadata": {
        "id": "SQkr4zg1wdTK"
      }
    },
    {
      "cell_type": "code",
      "source": [
        "import joblib\n",
        "import pandas as pd\n",
        "from sklearn.model_selection import GridSearchCV\n",
        "from sklearn.svm import SVC\n",
        "import warnings\n",
        "warnings.filterwarnings('ignore', category=FutureWarning)\n",
        "warnings.filterwarnings('ignore', category=DeprecationWarning)\n",
        "\n",
        "tr_features = iris_train\n",
        "tr_labels = iris_train_labels"
      ],
      "metadata": {
        "id": "raqoZPN0wRbp"
      },
      "execution_count": null,
      "outputs": []
    },
    {
      "cell_type": "markdown",
      "source": [
        "#Hyperparaameter Tuning"
      ],
      "metadata": {
        "id": "RyQX1Apew7Vf"
      }
    },
    {
      "cell_type": "code",
      "source": [
        "  def print_results(results):\n",
        "    print('BEST PARAMS: {}\\n'.format(results.best_params_))\n",
        "\n",
        "    means = results.cv_results_['mean_test_score']\n",
        "    stds = results.cv_results_['std_test_score']\n",
        "    for mean, std, params in zip(means, stds, results.cv_results_['params']):\n",
        "        print('{} (+/-{}) for {}'.format(round(mean, 3), round(std * 2, 3), params))"
      ],
      "metadata": {
        "id": "K1VfdBQrw_Cj"
      },
      "execution_count": null,
      "outputs": []
    },
    {
      "cell_type": "code",
      "source": [
        "svc = SVC()\n",
        "parameters = {\n",
        "    'kernel': ['linear', 'rbf'],\n",
        "    'C': [0.1, 1, 10]\n",
        "}\n",
        "\n",
        "cv = GridSearchCV(svc, parameters, cv=5)\n",
        "cv.fit(tr_features, tr_labels.values.ravel())\n",
        "\n",
        "print_results(cv)"
      ],
      "metadata": {
        "colab": {
          "base_uri": "https://localhost:8080/"
        },
        "id": "07MpROooxF-u",
        "outputId": "d3650189-9634-4d86-e573-dc4a639cd8b7"
      },
      "execution_count": null,
      "outputs": [
        {
          "output_type": "stream",
          "name": "stdout",
          "text": [
            "BEST PARAMS: {'C': 1, 'kernel': 'linear'}\n",
            "\n",
            "0.922 (+/-0.113) for {'C': 0.1, 'kernel': 'linear'}\n",
            "0.8 (+/-0.218) for {'C': 0.1, 'kernel': 'rbf'}\n",
            "0.956 (+/-0.083) for {'C': 1, 'kernel': 'linear'}\n",
            "0.922 (+/-0.113) for {'C': 1, 'kernel': 'rbf'}\n",
            "0.933 (+/-0.109) for {'C': 10, 'kernel': 'linear'}\n",
            "0.944 (+/-0.07) for {'C': 10, 'kernel': 'rbf'}\n"
          ]
        }
      ]
    },
    {
      "cell_type": "code",
      "source": [
        "cv.best_estimator_"
      ],
      "metadata": {
        "colab": {
          "base_uri": "https://localhost:8080/"
        },
        "id": "kWHrLc3uxPF9",
        "outputId": "f1fefee0-dc51-4ba8-83c8-c9c6f57c0230"
      },
      "execution_count": null,
      "outputs": [
        {
          "output_type": "execute_result",
          "data": {
            "text/plain": [
              "SVC(C=1, kernel='linear')"
            ]
          },
          "metadata": {},
          "execution_count": 309
        }
      ]
    },
    {
      "cell_type": "markdown",
      "source": [
        "#Writing out pickled models"
      ],
      "metadata": {
        "id": "PFaE3sLDxULv"
      }
    },
    {
      "cell_type": "code",
      "source": [
        "joblib.dump(cv.best_estimator_, '../../../SVM_model.pkl')"
      ],
      "metadata": {
        "id": "4uqug68SxTQT"
      },
      "execution_count": null,
      "outputs": []
    },
    {
      "cell_type": "code",
      "source": [
        "models = {}\n",
        "\n",
        "for md in ['cv']:\n",
        "  models[md] = joblib.load('../../../SVM_model.pkl'.format(md))\n",
        "\n",
        "\n",
        "from time import time\n",
        "def evaluate_model(name, model, features, labels):\n",
        "    start = time()\n",
        "    pred = model.predict(features)\n",
        "    end = time()\n",
        "    accuracy = round(accuracy_score(labels, pred), 3)\n",
        "    precision = round(precision_score(labels, pred, average='weighted'), 3)\n",
        "    recall = round(recall_score(labels, pred, average='weighted'), 3)\n",
        "    print('{} -- \\tAccuracy: {} / Precision: {} / Recall: {} / Latency: {}ms'.format(name,\n",
        "                                                                                     accuracy,\n",
        "                                                                                     precision,\n",
        "                                                                                     recall,\n",
        "                                                                                     round((end - start)*1000, 1)))\n",
        "\n",
        "evaluate_model('SVM Model test', models['cv'], iris_test, iris_test_labels)"
      ],
      "metadata": {
        "colab": {
          "base_uri": "https://localhost:8080/"
        },
        "id": "YBu7bx2SyOpH",
        "outputId": "2a0a0a23-e501-4175-9e61-95243497fce4"
      },
      "execution_count": null,
      "outputs": [
        {
          "output_type": "stream",
          "name": "stdout",
          "text": [
            "SVM Model test -- \tAccuracy: 1.0 / Precision: 1.0 / Recall: 1.0 / Latency: 5.5ms\n"
          ]
        }
      ]
    },
    {
      "cell_type": "markdown",
      "source": [
        "#Comparing our model 80:10:10 split\n",
        "\n",
        "In this section, we will do the following:\n",
        "1. Evaluate all of our saved models on the validation set\n",
        "2. Select the best model based on performance on the validation set\n",
        "3. Evaluate that model on the holdout test set"
      ],
      "metadata": {
        "id": "zIuS8alkwSKy"
      }
    },
    {
      "cell_type": "code",
      "source": [
        "import joblib\n",
        "import pandas as pd\n",
        "from sklearn.metrics import accuracy_score, precision_score, recall_score\n",
        "from time import time\n",
        "\n",
        "val_features = iris_val\n",
        "val_labels = iris_val_labels\n",
        "\n",
        "tr_features = iris_train\n",
        "tr_labels = iris_train_labels"
      ],
      "metadata": {
        "id": "NrQ9RxfgznPM"
      },
      "execution_count": null,
      "outputs": []
    },
    {
      "cell_type": "code",
      "source": [
        "models = {}\n",
        "\n",
        "for mdl in ['SVM', 'RF', 'GB']:\n",
        "    models[mdl] = joblib.load('../../../{}_model.pkl'.format(mdl))"
      ],
      "metadata": {
        "id": "PrP4S_jRzpNM"
      },
      "execution_count": null,
      "outputs": []
    },
    {
      "cell_type": "code",
      "source": [
        "models"
      ],
      "metadata": {
        "colab": {
          "base_uri": "https://localhost:8080/"
        },
        "id": "034ArLNMzvZz",
        "outputId": "61fb0e62-db55-4a9d-ff6c-8cf8b3563cc9"
      },
      "execution_count": null,
      "outputs": [
        {
          "output_type": "execute_result",
          "data": {
            "text/plain": [
              "{'SVM': SVC(C=1, kernel='linear'),\n",
              " 'RF': RandomForestClassifier(max_depth=2, n_estimators=5),\n",
              " 'GB': GradientBoostingClassifier(learning_rate=0.01, max_depth=1, n_estimators=250)}"
            ]
          },
          "metadata": {},
          "execution_count": 323
        }
      ]
    },
    {
      "cell_type": "code",
      "source": [
        "models = []\n",
        "models.append(['SVM', SVC(random_state=0)])\n",
        "models.append(['XG Boost', GradientBoostingClassifier()])\n",
        "models.append(['Random Forest', RandomForestClassifier()])\n",
        "\n",
        "\n",
        "\n",
        "lst_1= []\n",
        "\n",
        "for m in range(len(models)):\n",
        "    lst_2= []\n",
        "    model = models[m][1]\n",
        "    model.fit(X_train, y_train)\n",
        "    y_pred = model.predict(X_test)\n",
        "    cm = confusion_matrix(y_test, y_pred)  #Confusion Matrix\n",
        "    accuracies = cross_val_score(estimator = model, X = X_train, y = y_train, cv =5)   #K-Fold Validation\n",
        "    print(cm)\n",
        "    print('Accuracy Score: ',accuracy_score(y_test, y_pred))\n",
        ""
      ],
      "metadata": {
        "colab": {
          "base_uri": "https://localhost:8080/"
        },
        "id": "_0Yy3ohOzPI7",
        "outputId": "02db4002-f33c-4ed3-afed-be8312ff583f"
      },
      "execution_count": null,
      "outputs": [
        {
          "output_type": "stream",
          "name": "stdout",
          "text": [
            "[[5 0 0]\n",
            " [0 3 0]\n",
            " [0 0 7]]\n",
            "Accuracy Score:  1.0\n",
            "[[5 0 0]\n",
            " [0 3 0]\n",
            " [0 0 7]]\n",
            "Accuracy Score:  1.0\n",
            "[[5 0 0]\n",
            " [0 3 0]\n",
            " [0 0 7]]\n",
            "Accuracy Score:  1.0\n"
          ]
        }
      ]
    },
    {
      "cell_type": "markdown",
      "source": [
        "#Model Analysis\n",
        "\n",
        "The models appear to be overfitted despite applying hyperparameter tuning for both splits.\n",
        "\n",
        "**EXPERIMENTAL RESULTS**\n",
        "\n",
        "From the Table above, it appears that all the accuracy for the prediction are overfitted despited applying scaling the dataset and applying hyper parameterr tuning.  The predicted accuracy for logistic regression and XGBoost gives the highest result with accuracy after applying validation test of 90.15% higher than RF and Gradient Boosting both with tuning the parameters thereby being the\n",
        "best model. Cross Validation used to evaluate generalization performance of algorithms on this dataset\n",
        "was a 5-fold cross validation (cv=5). 95% of the data (nine-fifth) was used to fit the model in each\n",
        "iteration which summarized and generated an average/mean cross validation score resulting in a more\n",
        "accurate model.\n",
        "\n",
        "#**Conclusion**\n",
        "\n",
        "This approach shows machine learning is effective for multi-class classification problems. The final results\n",
        "indicates that all models achieved very good accuracys.\n",
        "\n",
        "The split of data 60:20:20 has a better classification performane as it correctly classified 12 as belonging to the True Positive (TP).\n",
        "\n",
        "A limitation is the\n",
        "dataset used is small and a larger dataset would have generated better insights to avoid overfitting.\n"
      ],
      "metadata": {
        "id": "VmXuOZ-VurSJ"
      }
    },
    {
      "cell_type": "code",
      "source": [],
      "metadata": {
        "id": "HAGO1MXx9umG"
      },
      "execution_count": null,
      "outputs": []
    }
  ]
}